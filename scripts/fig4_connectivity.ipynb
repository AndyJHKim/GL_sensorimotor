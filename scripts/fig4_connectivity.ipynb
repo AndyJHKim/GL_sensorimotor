{
 "cells": [
  {
   "cell_type": "code",
   "execution_count": 1,
   "id": "fec5446c",
   "metadata": {},
   "outputs": [
    {
     "name": "stderr",
     "output_type": "stream",
     "text": [
      "/opt/anaconda3/lib/python3.9/site-packages/pandas/core/computation/expressions.py:21: UserWarning: Pandas requires version '2.8.4' or newer of 'numexpr' (version '2.7.3' currently installed).\n",
      "  from pandas.core.computation.check import NUMEXPR_INSTALLED\n",
      "/opt/anaconda3/lib/python3.9/site-packages/pandas/core/arrays/masked.py:60: UserWarning: Pandas requires version '1.3.6' or newer of 'bottleneck' (version '1.3.2' currently installed).\n",
      "  from pandas.core import (\n"
     ]
    }
   ],
   "source": [
    "from mne_connectivity.viz import plot_connectivity_circle\n",
    "from mne.viz import circular_layout\n",
    "from scipy import stats\n",
    "\n",
    "import matplotlib.pyplot as plt\n",
    "import numpy as np\n",
    "import os\n",
    "import pandas as pd\n",
    "import scipy as sp\n",
    "import seaborn as sns\n",
    "import statsmodels.formula.api as smf"
   ]
  },
  {
   "cell_type": "markdown",
   "id": "e33fde89",
   "metadata": {},
   "source": [
    "# Figure 4 B"
   ]
  },
  {
   "cell_type": "markdown",
   "id": "813c9cbb",
   "metadata": {},
   "source": [
    "## Preprocessing"
   ]
  },
  {
   "cell_type": "markdown",
   "id": "a44b7ce9-67ea-4845-abe3-163db3d5c30a",
   "metadata": {},
   "source": [
    "Please contact the corresponding author, Sungshin Kim (sungshinkim@hanyang.ac.kr), or the first author, Junghyun Kim (juhng62@gmail.com) to get raw data."
   ]
  },
  {
   "cell_type": "code",
   "execution_count": 2,
   "id": "8d5f3a28",
   "metadata": {},
   "outputs": [],
   "source": [
    "# connectivity matrix\n",
    "con = np.zeros((4, 6, 6))"
   ]
  },
  {
   "cell_type": "markdown",
   "id": "a59315fc",
   "metadata": {},
   "source": [
    "0: dorsal - M1 / 1: dorsal - premotor / 2: dorsal - ventral / 3: dorsal - S1 / 4: dorsal - early / 5: M1 - premotor / 6: M1 - ventral / 7: M1 - S1 / 8: M1 - early / 9: premotor - ventral / 10: premotor - S1 / 11: premotor - early / 12: ventral - S1 / 13: ventral - early / 14: S1 - early"
   ]
  },
  {
   "cell_type": "code",
   "execution_count": 3,
   "id": "3db06f65",
   "metadata": {},
   "outputs": [
    {
     "data": {
      "text/plain": [
       "array([ 0.27264449,  0.35393026,  0.55040029,  0.04721432,  0.04208675,\n",
       "        0.39381951,  0.29124201,  0.04681315, -0.0652815 ,  0.38264089,\n",
       "        0.06367855, -0.05068017,  0.08878187, -0.01711081,  0.27607802])"
      ]
     },
     "execution_count": 3,
     "metadata": {},
     "output_type": "execute_result"
    }
   ],
   "source": [
    "# z = Fisher's z transformation\n",
    "np.load('../data/02z.FB.group.main.002.npy')"
   ]
  },
  {
   "cell_type": "code",
   "execution_count": 4,
   "id": "b04fbbc3",
   "metadata": {},
   "outputs": [],
   "source": [
    "con[0,3,:3] = [0.35393026, 0.38264089, -0.05068017]\n",
    "con[0,4,:3] = [0.27264449, 0.29124201, -0.0652815]\n",
    "con[0,5,:3] = [0.04721432, 0.08878187, 0.27607802]"
   ]
  },
  {
   "cell_type": "code",
   "execution_count": 5,
   "id": "2d44fe78",
   "metadata": {},
   "outputs": [
    {
     "data": {
      "text/plain": [
       "array([ 0.26555908,  0.27535199,  0.46900917,  0.13719218,  0.06356317,\n",
       "        0.42306342,  0.31175889,  0.1327639 , -0.05169612,  0.32171206,\n",
       "        0.11942954, -0.05748081,  0.22423659, -0.01432613,  0.09456112])"
      ]
     },
     "execution_count": 5,
     "metadata": {},
     "output_type": "execute_result"
    }
   ],
   "source": [
    "np.load('../data/02z.FB.group.main.005.npy')"
   ]
  },
  {
   "cell_type": "code",
   "execution_count": 6,
   "id": "646e8d21",
   "metadata": {},
   "outputs": [],
   "source": [
    "con[1,3,:3] = [0.27535199, 0.32171206, -0.05748081]\n",
    "con[1,4,:3] = [0.26555908, 0.31175889, -0.05169612]\n",
    "con[1,5,:3] = [0.1327639, 0.22423659, 0.09456112]"
   ]
  },
  {
   "cell_type": "code",
   "execution_count": 7,
   "id": "a025ca11",
   "metadata": {},
   "outputs": [
    {
     "data": {
      "text/plain": [
       "array([ 0.24183764,  0.28440907,  0.50374626, -0.06786776, -0.04004819,\n",
       "        0.44247161,  0.34746483,  0.06143143, -0.10850089,  0.35933791,\n",
       "       -0.01281481, -0.08428724, -0.02895431, -0.17380085,  0.12958169])"
      ]
     },
     "execution_count": 7,
     "metadata": {},
     "output_type": "execute_result"
    }
   ],
   "source": [
    "np.load('../data/02z.nFB.group.main.002.npy')"
   ]
  },
  {
   "cell_type": "code",
   "execution_count": 8,
   "id": "c3c6a515",
   "metadata": {},
   "outputs": [],
   "source": [
    "con[2,3,:3] = [0.28440907, 0.35933791, -0.08428724]\n",
    "con[2,4,:3] = [0.24183764, 0.34746483, -0.10850089]\n",
    "con[2,5,:3] = [-0.06786776, -0.02895431, 0.12958169]"
   ]
  },
  {
   "cell_type": "code",
   "execution_count": 9,
   "id": "4bd6add3",
   "metadata": {},
   "outputs": [
    {
     "data": {
      "text/plain": [
       "array([ 0.21832765,  0.24376988,  0.42808637, -0.07114298,  0.09683865,\n",
       "        0.39393215,  0.28669598,  0.09827971, -0.0543673 ,  0.28375799,\n",
       "        0.02855979, -0.05801237,  0.02865029, -0.01739223,  0.10258665])"
      ]
     },
     "execution_count": 9,
     "metadata": {},
     "output_type": "execute_result"
    }
   ],
   "source": [
    "np.load('../data/02z.nFB.group.main.005.npy')"
   ]
  },
  {
   "cell_type": "code",
   "execution_count": 10,
   "id": "ddcd60d6",
   "metadata": {},
   "outputs": [],
   "source": [
    "con[3,3,:3] = [0.24376988, 0.28375799, -0.05801237]\n",
    "con[3,4,:3] = [0.21832765, 0.28669598, -0.0543673]\n",
    "con[3,5,:3] = [-0.07114298, 0.02865029, 0.10258665]"
   ]
  },
  {
   "cell_type": "markdown",
   "id": "768b74f3",
   "metadata": {},
   "source": [
    "## Graph"
   ]
  },
  {
   "cell_type": "code",
   "execution_count": 11,
   "id": "9ec1168a",
   "metadata": {},
   "outputs": [
    {
     "data": {
      "image/png": "[encoded data removed]",
      "text/plain": [
       "<Figure size 576x576 with 2 Axes>"
      ]
     },
     "metadata": {},
     "output_type": "display_data"
    },
    {
     "data": {
      "text/plain": [
       "(<Figure size 576x576 with 2 Axes>, <PolarAxesSubplot:>)"
      ]
     },
     "execution_count": 11,
     "metadata": {},
     "output_type": "execute_result"
    }
   ],
   "source": [
    "node_names = ['Dorsal', 'Ventral', 'Early', 'PMd', 'M1', 'S1']\n",
    "node_order = ['PMd', 'M1', 'S1', 'Early', 'Ventral', 'Dorsal']\n",
    "node_angles = circular_layout(node_names, node_order, start_pos=90,\n",
    "                              group_boundaries=[0, len(node_names) / 2], group_sep=40)\n",
    "color = sns.color_palette(\"Set2\")\n",
    "\n",
    "# CHANGE con[?]\n",
    "plot_connectivity_circle(con=con[3], node_names=node_names, n_lines=9, node_angles=node_angles, \\\n",
    "                         node_colors=[color[0], color[4], color[2], color[1], color[6], color[3]], \\\n",
    "                         facecolor='white', textcolor='black', linewidth=7, colormap='RdYlBu_r', \\\n",
    "                         vmin=-0.11, vmax=0.39, fontsize_names=20,\n",
    "                         colorbar=True, colorbar_size=0.7, fontsize_colorbar=20)\n",
    "\n",
    "# fname = '/Users/clmn/Desktop/Andy/Masters/Articles/GL/figures/fig3/fig3B/fig3B1.png'\n",
    "# plt.savefig(fname, dpi=600)"
   ]
  },
  {
   "cell_type": "markdown",
   "id": "d4dc4986",
   "metadata": {},
   "source": [
    "## T-test\n",
    "To check if there is difference in correlations between the first run and the last run."
   ]
  },
  {
   "cell_type": "markdown",
   "id": "98a3a504",
   "metadata": {},
   "source": [
    "### Preprocessing"
   ]
  },
  {
   "cell_type": "markdown",
   "id": "2b5621ae",
   "metadata": {},
   "source": [
    "0: dorsal - M1 / 1: dorsal - premotor / 2: dorsal - ventral / 3: dorsal - S1 / 4: dorsal - early / 5: M1 - premotor / 6: M1 - ventral / 7: M1 - S1 / 8: M1 - early / 9: premotor - ventral / 10: premotor - S1 / 11: premotor - early / 12: ventral - S1 / 13: ventral - early / 14: S1 - early"
   ]
  },
  {
   "cell_type": "code",
   "execution_count": 12,
   "id": "88a1f355",
   "metadata": {},
   "outputs": [],
   "source": [
    "# # index_dir = '/home/kjh/Desktop/GL_KJH/index'\n",
    "# # corr_atlas_dir = '/mnt/ext6/GL_KJH/connectivity/correlations/Peak_GL02_cluster'\n",
    "# # subj_list = np.genfromtxt(os.path.join(index_dir, 'GLsubjlist'), dtype='str')\n",
    "\n",
    "# index_dir = '/Users/clmn/Desktop/GL_FS/GLFS02/index'\n",
    "# corr_atlas_dir = '/Users/clmn/Desktop/GL_FS/GLFS02/connectivity/correlations/Peak_GL02_cluster'\n",
    "# subj_list = np.genfromtxt(os.path.join(index_dir, 'GLsubjlist'), dtype='str')\n",
    "\n",
    "# radius = '3'\n",
    "# corr_num = '02'\n",
    "# corr_dir = os.path.join(corr_atlas_dir, radius, corr_num)\n",
    "\n",
    "# cond_list = ['CF', 'BF']\n",
    "# run_list = [2, 5]\n",
    "# roi_list = ['dorsal_PMd', 'dorsal_M1', 'dorsal_S1', 'ventral_PMd', 'ventral_M1', 'ventral_S1', \n",
    "#             'early_PMd', 'early_M1', 'early_S1']"
   ]
  },
  {
   "cell_type": "code",
   "execution_count": 13,
   "id": "42e0c1cb",
   "metadata": {},
   "outputs": [],
   "source": [
    "# df_corr_CF = pd.DataFrame()\n",
    "# df_corr_BF = pd.DataFrame()\n",
    "\n",
    "# df_corr_CF['subj'] = np.repeat(np.genfromtxt(os.path.join(index_dir, 'GLsubjlist'), dtype='str'), 9*2)\n",
    "# df_corr_BF['subj'] = np.repeat(np.genfromtxt(os.path.join(index_dir, 'GLsubjlist'), dtype='str'), 9*2)\n",
    "\n",
    "# df_corr_CF['roi'] = np.tile(np.repeat(np.array(roi_list), 2), 24)\n",
    "# df_corr_BF['roi'] = np.tile(np.repeat(np.array(roi_list), 2), 24)\n",
    "\n",
    "# df_corr_CF['run'] = np.tile(np.array(run_list), 24*9)\n",
    "# df_corr_BF['run'] = np.tile(np.array(run_list), 24*9)\n",
    "\n",
    "# # df_corr_CF"
   ]
  },
  {
   "cell_type": "code",
   "execution_count": 14,
   "id": "7b9ab893",
   "metadata": {},
   "outputs": [],
   "source": [
    "# corr_CF_col = []\n",
    "# for subj in subj_list:\n",
    "#     for roi in roi_list:\n",
    "#         if roi == 'dorsal_PMd':\n",
    "#             i = 1\n",
    "#         elif roi == 'dorsal_M1':\n",
    "#             i = 0\n",
    "#         elif roi == 'dorsal_S1':\n",
    "#             i = 3\n",
    "#         elif roi == 'ventral_PMd':\n",
    "#             i = 9\n",
    "#         elif roi == 'ventral_M1':\n",
    "#             i = 6\n",
    "#         elif roi == 'ventral_S1':\n",
    "#             i = 12\n",
    "#         elif roi == 'early_PMd':\n",
    "#             i = 11\n",
    "#         elif roi == 'early_M1':\n",
    "#             i = 8\n",
    "#         elif roi == 'early_S1':\n",
    "#             i = 14\n",
    "            \n",
    "#         for run in run_list:\n",
    "#             data = np.load(os.path.join(corr_dir, f'{corr_num}z.FB.{subj}.main.00{run}.npy'))\n",
    "            \n",
    "#             corr_CF_col.append(data[i])\n",
    "\n",
    "# df_corr_CF['corr'] = corr_CF_col"
   ]
  },
  {
   "cell_type": "code",
   "execution_count": 15,
   "id": "9c8f7bc9",
   "metadata": {},
   "outputs": [],
   "source": [
    "# corr_BF_col = []\n",
    "# for subj in subj_list:\n",
    "#     for roi in roi_list:\n",
    "#         if roi == 'dorsal_PMd':\n",
    "#             i = 1\n",
    "#         elif roi == 'dorsal_M1':\n",
    "#             i = 0\n",
    "#         elif roi == 'dorsal_S1':\n",
    "#             i = 3\n",
    "#         elif roi == 'ventral_PMd':\n",
    "#             i = 9\n",
    "#         elif roi == 'ventral_M1':\n",
    "#             i = 6\n",
    "#         elif roi == 'ventral_S1':\n",
    "#             i = 12\n",
    "#         elif roi == 'early_PMd':\n",
    "#             i = 11\n",
    "#         elif roi == 'early_M1':\n",
    "#             i = 8\n",
    "#         elif roi == 'early_S1':\n",
    "#             i = 14\n",
    "            \n",
    "#         for run in run_list:\n",
    "#             data = np.load(os.path.join(corr_dir, f'{corr_num}z.nFB.{subj}.main.00{run}.npy'))\n",
    "            \n",
    "#             corr_BF_col.append(data[i])\n",
    "\n",
    "# df_corr_BF['corr'] = corr_BF_col\n",
    "# df_corr_BF"
   ]
  },
  {
   "cell_type": "code",
   "execution_count": 16,
   "id": "c3c5a696",
   "metadata": {},
   "outputs": [],
   "source": [
    "# df_corr_CF.to_csv('../data/corr_CF.csv', index=False)\n",
    "# df_corr_BF.to_csv('../data/corr_BF.csv', index=False)"
   ]
  },
  {
   "cell_type": "code",
   "execution_count": 17,
   "id": "80442d4e",
   "metadata": {},
   "outputs": [
    {
     "data": {
      "text/html": [
       "<div>\n",
       "<style scoped>\n",
       "    .dataframe tbody tr th:only-of-type {\n",
       "        vertical-align: middle;\n",
       "    }\n",
       "\n",
       "    .dataframe tbody tr th {\n",
       "        vertical-align: top;\n",
       "    }\n",
       "\n",
       "    .dataframe thead th {\n",
       "        text-align: right;\n",
       "    }\n",
       "</style>\n",
       "<table border=\"1\" class=\"dataframe\">\n",
       "  <thead>\n",
       "    <tr style=\"text-align: right;\">\n",
       "      <th></th>\n",
       "      <th>subj</th>\n",
       "      <th>roi</th>\n",
       "      <th>run</th>\n",
       "      <th>corr</th>\n",
       "    </tr>\n",
       "  </thead>\n",
       "  <tbody>\n",
       "    <tr>\n",
       "      <th>0</th>\n",
       "      <td>GL03</td>\n",
       "      <td>dorsal_PMd</td>\n",
       "      <td>2</td>\n",
       "      <td>0.304060</td>\n",
       "    </tr>\n",
       "    <tr>\n",
       "      <th>1</th>\n",
       "      <td>GL03</td>\n",
       "      <td>dorsal_PMd</td>\n",
       "      <td>5</td>\n",
       "      <td>0.166149</td>\n",
       "    </tr>\n",
       "    <tr>\n",
       "      <th>2</th>\n",
       "      <td>GL03</td>\n",
       "      <td>dorsal_M1</td>\n",
       "      <td>2</td>\n",
       "      <td>0.202364</td>\n",
       "    </tr>\n",
       "    <tr>\n",
       "      <th>3</th>\n",
       "      <td>GL03</td>\n",
       "      <td>dorsal_M1</td>\n",
       "      <td>5</td>\n",
       "      <td>0.315530</td>\n",
       "    </tr>\n",
       "    <tr>\n",
       "      <th>4</th>\n",
       "      <td>GL03</td>\n",
       "      <td>dorsal_S1</td>\n",
       "      <td>2</td>\n",
       "      <td>-0.160713</td>\n",
       "    </tr>\n",
       "    <tr>\n",
       "      <th>...</th>\n",
       "      <td>...</td>\n",
       "      <td>...</td>\n",
       "      <td>...</td>\n",
       "      <td>...</td>\n",
       "    </tr>\n",
       "    <tr>\n",
       "      <th>427</th>\n",
       "      <td>GL29</td>\n",
       "      <td>early_PMd</td>\n",
       "      <td>5</td>\n",
       "      <td>0.157694</td>\n",
       "    </tr>\n",
       "    <tr>\n",
       "      <th>428</th>\n",
       "      <td>GL29</td>\n",
       "      <td>early_M1</td>\n",
       "      <td>2</td>\n",
       "      <td>-0.066721</td>\n",
       "    </tr>\n",
       "    <tr>\n",
       "      <th>429</th>\n",
       "      <td>GL29</td>\n",
       "      <td>early_M1</td>\n",
       "      <td>5</td>\n",
       "      <td>0.098461</td>\n",
       "    </tr>\n",
       "    <tr>\n",
       "      <th>430</th>\n",
       "      <td>GL29</td>\n",
       "      <td>early_S1</td>\n",
       "      <td>2</td>\n",
       "      <td>-0.048474</td>\n",
       "    </tr>\n",
       "    <tr>\n",
       "      <th>431</th>\n",
       "      <td>GL29</td>\n",
       "      <td>early_S1</td>\n",
       "      <td>5</td>\n",
       "      <td>0.188839</td>\n",
       "    </tr>\n",
       "  </tbody>\n",
       "</table>\n",
       "<p>432 rows × 4 columns</p>\n",
       "</div>"
      ],
      "text/plain": [
       "     subj         roi  run      corr\n",
       "0    GL03  dorsal_PMd    2  0.304060\n",
       "1    GL03  dorsal_PMd    5  0.166149\n",
       "2    GL03   dorsal_M1    2  0.202364\n",
       "3    GL03   dorsal_M1    5  0.315530\n",
       "4    GL03   dorsal_S1    2 -0.160713\n",
       "..    ...         ...  ...       ...\n",
       "427  GL29   early_PMd    5  0.157694\n",
       "428  GL29    early_M1    2 -0.066721\n",
       "429  GL29    early_M1    5  0.098461\n",
       "430  GL29    early_S1    2 -0.048474\n",
       "431  GL29    early_S1    5  0.188839\n",
       "\n",
       "[432 rows x 4 columns]"
      ]
     },
     "execution_count": 17,
     "metadata": {},
     "output_type": "execute_result"
    }
   ],
   "source": [
    "df_corr_CF = pd.read_csv('../data/corr_CF.csv')\n",
    "df_corr_BF = pd.read_csv('../data/corr_BF.csv')\n",
    "df_corr_BF"
   ]
  },
  {
   "cell_type": "markdown",
   "id": "16dab4f9",
   "metadata": {},
   "source": [
    "### Calculation"
   ]
  },
  {
   "cell_type": "code",
   "execution_count": 18,
   "id": "a48b6f36",
   "metadata": {},
   "outputs": [
    {
     "name": "stdout",
     "output_type": "stream",
     "text": [
      "dorsal_PMd : TtestResult(statistic=2.4244043215006403, pvalue=0.02359862034696272, df=23) 0.42477516624532896\n",
      "\n",
      "dorsal_M1 : TtestResult(statistic=0.17826984638019602, pvalue=0.860071945663083, df=23) 15.481295021935495\n",
      "\n",
      "dorsal_S1 : TtestResult(statistic=-2.2770955333046508, pvalue=0.03240140781873853, df=23) 0.5832253407372935\n",
      "\n",
      "ventral_PMd : TtestResult(statistic=2.1044584073963515, pvalue=0.046470493808208294, df=23) 0.8364688885477493\n",
      "\n",
      "ventral_M1 : TtestResult(statistic=-0.5619838402572066, pvalue=0.5795631242877948, df=23) 10.432136237180305\n",
      "\n",
      "ventral_S1 : TtestResult(statistic=-3.212397262823865, pvalue=0.0038624920217223027, df=23) 0.06952485639100145\n",
      "\n",
      "early_PMd : TtestResult(statistic=0.10876278426905303, pvalue=0.9143339626281536, df=23) 16.458011327306764\n",
      "\n",
      "early_M1 : TtestResult(statistic=-0.4324143860821853, pvalue=0.6694676077583364, df=23) 12.050416939650054\n",
      "\n",
      "early_S1 : TtestResult(statistic=5.115456287635196, pvalue=3.5046807926482195e-05, df=23) 0.0006308425426766795\n",
      "\n"
     ]
    }
   ],
   "source": [
    "roi_list = ['dorsal_PMd', 'dorsal_M1', 'dorsal_S1', 'ventral_PMd', 'ventral_M1', 'ventral_S1', \n",
    "            'early_PMd', 'early_M1', 'early_S1']\n",
    "\n",
    "for roi in roi_list:\n",
    "    a = df_corr_CF[(df_corr_CF[\"run\"] == 2) & (df_corr_CF[\"roi\"] == roi)].groupby('subj')['corr'].mean()\n",
    "    b = df_corr_CF[(df_corr_CF[\"run\"] == 5) & (df_corr_CF[\"roi\"] == roi)].groupby('subj')['corr'].mean()\n",
    "    print(roi, ':', stats.ttest_rel(a, b), stats.ttest_rel(a, b)[1]*18)\n",
    "    print()"
   ]
  },
  {
   "cell_type": "code",
   "execution_count": 19,
   "id": "645f8919",
   "metadata": {},
   "outputs": [
    {
     "name": "stdout",
     "output_type": "stream",
     "text": [
      "dorsal_PMd : TtestResult(statistic=1.2564258706507332, pvalue=0.221573574146665, df=23) 3.9883243346399704\n",
      "\n",
      "dorsal_M1 : TtestResult(statistic=0.6476978133588924, pvalue=0.523593736928293, df=23) 9.424687264709274\n",
      "\n",
      "dorsal_S1 : TtestResult(statistic=0.046699420564206943, pvalue=0.9631559165355488, df=23) 17.336806497639877\n",
      "\n",
      "ventral_PMd : TtestResult(statistic=2.123929697040449, pvalue=0.044646178221661816, df=23) 0.8036312079899127\n",
      "\n",
      "ventral_M1 : TtestResult(statistic=2.3883378212362345, pvalue=0.02552228535816909, df=23) 0.4594011364470436\n",
      "\n",
      "ventral_S1 : TtestResult(statistic=-1.7886127391361772, pvalue=0.08685852119979567, df=23) 1.563453381596322\n",
      "\n",
      "early_PMd : TtestResult(statistic=-0.8207906214414911, pvalue=0.42019177638950966, df=23) 7.563451975011174\n",
      "\n",
      "early_M1 : TtestResult(statistic=-1.6438588445789712, pvalue=0.11380680919709499, df=23) 2.0485225655477097\n",
      "\n",
      "early_S1 : TtestResult(statistic=0.5837985756484585, pvalue=0.5650378752379459, df=23) 10.170681754283027\n",
      "\n"
     ]
    }
   ],
   "source": [
    "for roi in roi_list:\n",
    "    a = df_corr_BF[(df_corr_BF[\"run\"] == 2) & (df_corr_BF[\"roi\"] == roi)].groupby('subj')['corr'].mean()\n",
    "    b = df_corr_BF[(df_corr_BF[\"run\"] == 5) & (df_corr_BF[\"roi\"] == roi)].groupby('subj')['corr'].mean()\n",
    "    print(roi, ':', stats.ttest_rel(a, b), stats.ttest_rel(a, b)[1]*18)\n",
    "    print()"
   ]
  },
  {
   "cell_type": "markdown",
   "id": "8a3d0d98",
   "metadata": {},
   "source": [
    "## Superior Parietal Lobule"
   ]
  },
  {
   "cell_type": "markdown",
   "id": "c219eda1",
   "metadata": {},
   "source": [
    "### Preprocessing"
   ]
  },
  {
   "cell_type": "markdown",
   "id": "39015dec",
   "metadata": {},
   "source": [
    "0: SPL - dorsal / 1: SPL - M1 / 2: SPL - premotor / 3: SPL - ventral / 4: SPL - early / 5: SPL - S1"
   ]
  },
  {
   "cell_type": "code",
   "execution_count": 20,
   "id": "68b2f856",
   "metadata": {},
   "outputs": [],
   "source": [
    "# # index_dir = '/home/kjh/Desktop/GL_KJH/index'\n",
    "# # corr_atlas_dir = '/mnt/ext6/GL_KJH/connectivity/correlations/Peak_GL02_cluster'\n",
    "# # subj_list = np.genfromtxt(os.path.join(index_dir, 'GLsubjlist'), dtype='str')\n",
    "\n",
    "# index_dir = '/Users/clmn/Desktop/GL_FS/GLFS02/index'\n",
    "# corr_atlas_dir = '/Users/clmn/Desktop/GL_FS/GLFS02/connectivity/correlations/Peak_GL02_cluster'\n",
    "# subj_list = np.genfromtxt(os.path.join(index_dir, 'GLsubjlist'), dtype='str')\n",
    "\n",
    "# radius = '3'\n",
    "# corr_num = '02'\n",
    "# corr_dir = os.path.join(corr_atlas_dir, radius, corr_num, 'SPL')\n",
    "\n",
    "# cond_list = ['CF', 'BF']\n",
    "# run_list = [2, 5]\n",
    "# roi_list = ['SPL_PMd', 'SPL_M1', 'SPL_S1', 'SPL_dorsal', 'SPL_ventral', 'SPL_early']"
   ]
  },
  {
   "cell_type": "code",
   "execution_count": 21,
   "id": "cbc0f956",
   "metadata": {},
   "outputs": [],
   "source": [
    "# df_corr_CF_SPL = pd.DataFrame()\n",
    "# df_corr_BF_SPL = pd.DataFrame()\n",
    "\n",
    "# df_corr_CF_SPL['subj'] = np.repeat(np.genfromtxt(os.path.join(index_dir, 'GLsubjlist'), dtype='str'), 6*2)\n",
    "# df_corr_BF_SPL['subj'] = np.repeat(np.genfromtxt(os.path.join(index_dir, 'GLsubjlist'), dtype='str'), 6*2)\n",
    "\n",
    "# df_corr_CF_SPL['roi'] = np.tile(np.repeat(np.array(roi_list), 2), 24)\n",
    "# df_corr_BF_SPL['roi'] = np.tile(np.repeat(np.array(roi_list), 2), 24)\n",
    "\n",
    "# df_corr_CF_SPL['run'] = np.tile(np.array(run_list), 24*6)\n",
    "# df_corr_BF_SPL['run'] = np.tile(np.array(run_list), 24*6)\n",
    "\n",
    "# # df_corr_CF_SPL"
   ]
  },
  {
   "cell_type": "code",
   "execution_count": 22,
   "id": "26121700",
   "metadata": {},
   "outputs": [],
   "source": [
    "# corr_CF_SPL_col = []\n",
    "# for subj in subj_list:\n",
    "#     for roi in roi_list:\n",
    "#         if roi == 'SPL_PMd':\n",
    "#             i = 2\n",
    "#         elif roi == 'SPL_M1':\n",
    "#             i = 1\n",
    "#         elif roi == 'SPL_S1':\n",
    "#             i = 5\n",
    "#         elif roi == 'SPL_dorsal':\n",
    "#             i = 0\n",
    "#         elif roi == 'SPL_ventral':\n",
    "#             i = 3\n",
    "#         elif roi == 'SPL_early':\n",
    "#             i = 4\n",
    "            \n",
    "#         for run in run_list:\n",
    "#             data = np.load(os.path.join(corr_dir, f'{corr_num}.FB.{subj}.main.00{run}.npy'))\n",
    "            \n",
    "#             corr_CF_SPL_col.append(data[i])\n",
    "\n",
    "# df_corr_CF_SPL['corr'] = corr_CF_SPL_col\n",
    "# df_corr_CF_SPL"
   ]
  },
  {
   "cell_type": "code",
   "execution_count": 23,
   "id": "5273270f",
   "metadata": {},
   "outputs": [],
   "source": [
    "# corr_BF_SPL_col = []\n",
    "# for subj in subj_list:\n",
    "#     for roi in roi_list:\n",
    "#         if roi == 'SPL_PMd':\n",
    "#             i = 2\n",
    "#         elif roi == 'SPL_M1':\n",
    "#             i = 1\n",
    "#         elif roi == 'SPL_S1':\n",
    "#             i = 5\n",
    "#         elif roi == 'SPL_dorsal':\n",
    "#             i = 0\n",
    "#         elif roi == 'SPL_ventral':\n",
    "#             i = 3\n",
    "#         elif roi == 'SPL_early':\n",
    "#             i = 4\n",
    "            \n",
    "#         for run in run_list:\n",
    "#             data = np.load(os.path.join(corr_dir, f'{corr_num}.nFB.{subj}.main.00{run}.npy'))\n",
    "            \n",
    "#             corr_BF_SPL_col.append(data[i])\n",
    "\n",
    "# df_corr_BF_SPL['corr'] = corr_BF_SPL_col\n",
    "# df_corr_BF_SPL"
   ]
  },
  {
   "cell_type": "code",
   "execution_count": 24,
   "id": "b83230ce",
   "metadata": {},
   "outputs": [],
   "source": [
    "# df_corr_CF_SPL.to_csv('../data/corr_CF_SPL.csv', index=False)\n",
    "# df_corr_BF_SPL.to_csv('../data/corr_BF_SPL.csv', index=False)"
   ]
  },
  {
   "cell_type": "code",
   "execution_count": 25,
   "id": "5266fc8c",
   "metadata": {},
   "outputs": [
    {
     "data": {
      "text/html": [
       "<div>\n",
       "<style scoped>\n",
       "    .dataframe tbody tr th:only-of-type {\n",
       "        vertical-align: middle;\n",
       "    }\n",
       "\n",
       "    .dataframe tbody tr th {\n",
       "        vertical-align: top;\n",
       "    }\n",
       "\n",
       "    .dataframe thead th {\n",
       "        text-align: right;\n",
       "    }\n",
       "</style>\n",
       "<table border=\"1\" class=\"dataframe\">\n",
       "  <thead>\n",
       "    <tr style=\"text-align: right;\">\n",
       "      <th></th>\n",
       "      <th>subj</th>\n",
       "      <th>roi</th>\n",
       "      <th>run</th>\n",
       "      <th>corr</th>\n",
       "    </tr>\n",
       "  </thead>\n",
       "  <tbody>\n",
       "    <tr>\n",
       "      <th>0</th>\n",
       "      <td>GL03</td>\n",
       "      <td>SPL_PMd</td>\n",
       "      <td>2</td>\n",
       "      <td>0.298623</td>\n",
       "    </tr>\n",
       "    <tr>\n",
       "      <th>1</th>\n",
       "      <td>GL03</td>\n",
       "      <td>SPL_PMd</td>\n",
       "      <td>5</td>\n",
       "      <td>0.108345</td>\n",
       "    </tr>\n",
       "    <tr>\n",
       "      <th>2</th>\n",
       "      <td>GL03</td>\n",
       "      <td>SPL_M1</td>\n",
       "      <td>2</td>\n",
       "      <td>0.180867</td>\n",
       "    </tr>\n",
       "    <tr>\n",
       "      <th>3</th>\n",
       "      <td>GL03</td>\n",
       "      <td>SPL_M1</td>\n",
       "      <td>5</td>\n",
       "      <td>0.162409</td>\n",
       "    </tr>\n",
       "    <tr>\n",
       "      <th>4</th>\n",
       "      <td>GL03</td>\n",
       "      <td>SPL_S1</td>\n",
       "      <td>2</td>\n",
       "      <td>-0.031727</td>\n",
       "    </tr>\n",
       "    <tr>\n",
       "      <th>...</th>\n",
       "      <td>...</td>\n",
       "      <td>...</td>\n",
       "      <td>...</td>\n",
       "      <td>...</td>\n",
       "    </tr>\n",
       "    <tr>\n",
       "      <th>283</th>\n",
       "      <td>GL29</td>\n",
       "      <td>SPL_dorsal</td>\n",
       "      <td>5</td>\n",
       "      <td>0.338516</td>\n",
       "    </tr>\n",
       "    <tr>\n",
       "      <th>284</th>\n",
       "      <td>GL29</td>\n",
       "      <td>SPL_ventral</td>\n",
       "      <td>2</td>\n",
       "      <td>0.497230</td>\n",
       "    </tr>\n",
       "    <tr>\n",
       "      <th>285</th>\n",
       "      <td>GL29</td>\n",
       "      <td>SPL_ventral</td>\n",
       "      <td>5</td>\n",
       "      <td>0.536099</td>\n",
       "    </tr>\n",
       "    <tr>\n",
       "      <th>286</th>\n",
       "      <td>GL29</td>\n",
       "      <td>SPL_early</td>\n",
       "      <td>2</td>\n",
       "      <td>0.250199</td>\n",
       "    </tr>\n",
       "    <tr>\n",
       "      <th>287</th>\n",
       "      <td>GL29</td>\n",
       "      <td>SPL_early</td>\n",
       "      <td>5</td>\n",
       "      <td>0.072459</td>\n",
       "    </tr>\n",
       "  </tbody>\n",
       "</table>\n",
       "<p>288 rows × 4 columns</p>\n",
       "</div>"
      ],
      "text/plain": [
       "     subj          roi  run      corr\n",
       "0    GL03      SPL_PMd    2  0.298623\n",
       "1    GL03      SPL_PMd    5  0.108345\n",
       "2    GL03       SPL_M1    2  0.180867\n",
       "3    GL03       SPL_M1    5  0.162409\n",
       "4    GL03       SPL_S1    2 -0.031727\n",
       "..    ...          ...  ...       ...\n",
       "283  GL29   SPL_dorsal    5  0.338516\n",
       "284  GL29  SPL_ventral    2  0.497230\n",
       "285  GL29  SPL_ventral    5  0.536099\n",
       "286  GL29    SPL_early    2  0.250199\n",
       "287  GL29    SPL_early    5  0.072459\n",
       "\n",
       "[288 rows x 4 columns]"
      ]
     },
     "execution_count": 25,
     "metadata": {},
     "output_type": "execute_result"
    }
   ],
   "source": [
    "df_corr_CF_SPL = pd.read_csv('../data/corr_CF_SPL.csv')\n",
    "df_corr_BF_SPL = pd.read_csv('../data/corr_BF_SPL.csv')\n",
    "df_corr_BF_SPL"
   ]
  },
  {
   "cell_type": "markdown",
   "id": "723ce27a",
   "metadata": {},
   "source": [
    "### T-test"
   ]
  },
  {
   "cell_type": "code",
   "execution_count": 26,
   "id": "dd393f27",
   "metadata": {},
   "outputs": [
    {
     "name": "stdout",
     "output_type": "stream",
     "text": [
      "SPL_PMd : TtestResult(statistic=2.8445952579626717, pvalue=0.009177181596474578, df=23) 0.27531544789423734\n",
      "\n",
      "SPL_M1 : TtestResult(statistic=0.4575161911618597, pvalue=0.6515926281806949, df=23) 19.547778845420847\n",
      "\n",
      "SPL_S1 : TtestResult(statistic=-0.027437101975848612, pvalue=0.9783477847445953, df=23) 29.350433542337857\n",
      "\n",
      "SPL_dorsal : TtestResult(statistic=3.226327926350936, pvalue=0.003735854864236827, df=23) 0.11207564592710481\n",
      "\n",
      "SPL_ventral : TtestResult(statistic=2.3921611991196254, pvalue=0.025311710192736245, df=23) 0.7593513057820873\n",
      "\n",
      "SPL_early : TtestResult(statistic=-1.4096605612597735, pvalue=0.17201923407015354, df=23) 5.160577022104606\n",
      "\n"
     ]
    }
   ],
   "source": [
    "roi_list = ['SPL_PMd', 'SPL_M1', 'SPL_S1', 'SPL_dorsal', 'SPL_ventral', 'SPL_early']\n",
    "\n",
    "for roi in roi_list:\n",
    "    a = df_corr_CF_SPL[(df_corr_CF_SPL[\"run\"] == 2) & (df_corr_CF_SPL[\"roi\"] == roi)].groupby('subj')['corr'].mean()\n",
    "    b = df_corr_CF_SPL[(df_corr_CF_SPL[\"run\"] == 5) & (df_corr_CF_SPL[\"roi\"] == roi)].groupby('subj')['corr'].mean()\n",
    "    print(roi, ':', stats.ttest_rel(a, b), stats.ttest_rel(a, b)[1]*(18+12))\n",
    "    print()"
   ]
  },
  {
   "cell_type": "code",
   "execution_count": 27,
   "id": "1bb3edfd",
   "metadata": {},
   "outputs": [
    {
     "name": "stdout",
     "output_type": "stream",
     "text": [
      "SPL_PMd : TtestResult(statistic=1.7065147744338773, pvalue=0.10138059365594201, df=23) 3.0414178096782605\n",
      "\n",
      "SPL_M1 : TtestResult(statistic=0.07328931059718602, pvalue=0.9422095499728722, df=23) 28.266286499186165\n",
      "\n",
      "SPL_S1 : TtestResult(statistic=-2.4263896029196044, pvalue=0.023496725825232746, df=23) 0.7049017747569823\n",
      "\n",
      "SPL_dorsal : TtestResult(statistic=2.031113336721077, pvalue=0.0539568601204283, df=23) 1.618705803612849\n",
      "\n",
      "SPL_ventral : TtestResult(statistic=1.1098625371376434, pvalue=0.2785278291830024, df=23) 8.355834875490071\n",
      "\n",
      "SPL_early : TtestResult(statistic=-0.9893610432621659, pvalue=0.33278132411944483, df=23) 9.983439723583345\n",
      "\n"
     ]
    }
   ],
   "source": [
    "for roi in roi_list:\n",
    "    a = df_corr_BF_SPL[(df_corr_BF_SPL[\"run\"] == 2) & (df_corr_BF_SPL[\"roi\"] == roi)].groupby('subj')['corr'].mean()\n",
    "    b = df_corr_BF_SPL[(df_corr_BF_SPL[\"run\"] == 5) & (df_corr_BF_SPL[\"roi\"] == roi)].groupby('subj')['corr'].mean()\n",
    "    print(roi, ':', stats.ttest_rel(a, b), stats.ttest_rel(a, b)[1]*(18+12))\n",
    "    print()"
   ]
  },
  {
   "cell_type": "markdown",
   "id": "5d8ce278",
   "metadata": {},
   "source": [
    "# Figure 4 C"
   ]
  },
  {
   "cell_type": "code",
   "execution_count": 28,
   "id": "0779ca40",
   "metadata": {},
   "outputs": [
    {
     "name": "stdout",
     "output_type": "stream",
     "text": [
      "    Participant Run         Y        XA        XB        XC\n",
      "0             0  Y1  0.173843  0.146982  0.115791  0.644033\n",
      "1             1  Y1  0.396354  0.376907 -0.053285  0.146724\n",
      "2             2  Y1  0.181944 -0.021800  0.128153  0.041311\n",
      "3             3  Y1  0.134896 -0.028184  0.038865  0.446506\n",
      "4             4  Y1  0.182350 -0.080488 -0.091887  0.152241\n",
      "..          ...  ..       ...       ...       ...       ...\n",
      "91           19  Y4  0.566898  0.147996  0.192875  0.132937\n",
      "92           20  Y4  0.540625  0.188170  0.435882 -0.234357\n",
      "93           21  Y4  0.384838 -0.056040 -0.063509  0.184424\n",
      "94           22  Y4  0.386285  0.143907  0.292699  0.426889\n",
      "95           23  Y4  0.478125  0.458497  0.536269  0.146814\n",
      "\n",
      "[96 rows x 6 columns]\n"
     ]
    },
    {
     "name": "stderr",
     "output_type": "stream",
     "text": [
      "/opt/anaconda3/lib/python3.9/site-packages/statsmodels/base/model.py:604: ConvergenceWarning: Maximum Likelihood optimization failed to converge. Check mle_retvals\n",
      "  warnings.warn(\"Maximum Likelihood optimization failed to \"\n",
      "/opt/anaconda3/lib/python3.9/site-packages/statsmodels/regression/mixed_linear_model.py:2200: ConvergenceWarning: Retrying MixedLM optimization with lbfgs\n",
      "  warnings.warn(\n"
     ]
    },
    {
     "name": "stdout",
     "output_type": "stream",
     "text": [
      "          Mixed Linear Model Regression Results\n",
      "=========================================================\n",
      "Model:              MixedLM  Dependent Variable:  Y      \n",
      "No. Observations:   96       Method:              REML   \n",
      "No. Groups:         24       Scale:               0.0113 \n",
      "Min. group size:    4        Log-Likelihood:      55.8294\n",
      "Max. group size:    4        Converged:           Yes    \n",
      "Mean group size:    4.0                                  \n",
      "---------------------------------------------------------\n",
      "               Coef.  Std.Err.   z    P>|z| [0.025 0.975]\n",
      "---------------------------------------------------------\n",
      "Intercept       0.430    0.034 12.704 0.000  0.364  0.496\n",
      "XC             -0.367    0.082 -4.482 0.000 -0.528 -0.207\n",
      "Group Var       0.018    0.091                           \n",
      "Group x XC Cov -0.020    0.202                           \n",
      "XC Var          0.022    0.679                           \n",
      "=========================================================\n",
      "\n"
     ]
    },
    {
     "name": "stderr",
     "output_type": "stream",
     "text": [
      "/opt/anaconda3/lib/python3.9/site-packages/statsmodels/iolib/summary2.py:579: FutureWarning: DataFrame.applymap has been deprecated. Use DataFrame.map instead.\n",
      "  dat = dat.applymap(lambda x: _formatter(x, float_format))\n"
     ]
    }
   ],
   "source": [
    "# 1. Import the Excel file\n",
    "# file_path = \"/mnt/ext6/GL_KJH/connectivity/GL_behavior_con.xlsx\"\n",
    "file_path = \"../data/GL_S1_behavior_New.xlsx\"\n",
    "\n",
    "df = pd.read_excel(file_path)\n",
    "\n",
    "# Reshape the data to a long format\n",
    "df_melted = pd.melt(df, id_vars=[\"Unnamed: 0\"], \n",
    "                    value_vars=[f\"Y{i}\" for i in range(1, 5)], \n",
    "                    var_name=\"Run\", \n",
    "                    value_name=\"Y\")\n",
    "\n",
    "# Extracting XA, XB, and XC values for each functional run and participant\n",
    "for prefix in [\"XA\", \"XB\", \"XC\"]:\n",
    "    df_melted[prefix] = df_melted.apply(lambda row: df.at[row[\"Unnamed: 0\"], f\"{prefix}{row['Run'][1]}\"], axis=1)\n",
    "\n",
    "# Renaming the 'Unnamed: 0' column to 'Participant'\n",
    "df_melted = df_melted.rename(columns={\"Unnamed: 0\": \"Participant\"})\n",
    "\n",
    "# Displaying the reshaped dataframe\n",
    "print(df_melted)\n",
    "\n",
    "# Fitting the linear mixed-effects model\n",
    "model_formula = \"Y ~ XC\"\n",
    "lmm = smf.mixedlm(model_formula, df_melted, groups=df_melted[\"Participant\"], re_formula=\"~XC\").fit()\n",
    "\n",
    "# Lmer('Y ~ XA', data=df_melted)\n",
    "# Displaying the model summary\n",
    "print(lmm.summary())"
   ]
  },
  {
   "cell_type": "code",
   "execution_count": 29,
   "id": "187e3f0d",
   "metadata": {},
   "outputs": [
    {
     "data": {
      "text/plain": [
       "Intercept         0.429857\n",
       "XC               -0.367056\n",
       "Group Var         1.610178\n",
       "Group x XC Cov   -1.787561\n",
       "XC Var            1.986766\n",
       "dtype: float64"
      ]
     },
     "execution_count": 29,
     "metadata": {},
     "output_type": "execute_result"
    }
   ],
   "source": [
    "lmm.params"
   ]
  },
  {
   "cell_type": "code",
   "execution_count": 30,
   "id": "f83278f8",
   "metadata": {},
   "outputs": [
    {
     "data": {
      "text/plain": [
       "Intercept         5.636406e-37\n",
       "XC                7.404149e-06\n",
       "Group Var         6.031644e-02\n",
       "Group x XC Cov    3.482263e-01\n",
       "XC Var            7.557848e-01\n",
       "dtype: float64"
      ]
     },
     "execution_count": 30,
     "metadata": {},
     "output_type": "execute_result"
    }
   ],
   "source": [
    "lmm.pvalues"
   ]
  },
  {
   "cell_type": "code",
   "execution_count": 31,
   "id": "ba894677",
   "metadata": {},
   "outputs": [
    {
     "name": "stderr",
     "output_type": "stream",
     "text": [
      "/var/folders/5l/5jx0ryjd29d_6j6kvcyfc7cr0000gn/T/ipykernel_55483/1361942693.py:3: UserWarning: \n",
      "The palette list has fewer values (1) than needed (4) and will cycle, which may produce an uninterpretable plot.\n",
      "  ax = sns.scatterplot(data=df_melted, x=\"XC\", y=\"Y\", hue=\"Run\", style='Run', palette=['gray'], markers=[\"o\", \"s\", \"^\", \"X\"], s=70)\n"
     ]
    },
    {
     "data": {
      "image/png": "[encoded data removed]",
      "text/plain": [
       "<Figure size 864x432 with 1 Axes>"
      ]
     },
     "metadata": {
      "needs_background": "light"
     },
     "output_type": "display_data"
    }
   ],
   "source": [
    "plt.figure(figsize=(12, 6))\n",
    "\n",
    "ax = sns.scatterplot(data=df_melted, x=\"XC\", y=\"Y\", hue=\"Run\", style='Run', palette=['gray'], markers=[\"o\", \"s\", \"^\", \"X\"], s=70)\n",
    "\n",
    "intercept_coeff = lmm.params['Intercept']\n",
    "slope_coeff = lmm.params['XC']\n",
    "std_err_intercept = lmm.bse['Intercept']\n",
    "std_err_slope = lmm.bse['XC']\n",
    "\n",
    "# https://matplotlib.org/stable/gallery/lines_bars_and_markers/fill_between_demo.html#sphx-glr-gallery-lines-bars-and-markers-fill-between-demo-py\n",
    "x = df_melted.sort_values(by=\"XC\")[\"XC\"]\n",
    "y_est = intercept_coeff + slope_coeff * x\n",
    "y_err = x.std() * np.sqrt(1/len(x) + (x - x.mean())**2 / np.sum((x - x.mean())**2))\n",
    "\n",
    "ax.plot(np.array(x), np.array(y_est), '-', color='black')\n",
    "ax.fill_between(x, y_est - y_err, y_est + y_err, color='gray', alpha=0.3)\n",
    "\n",
    "for text, new in zip(plt.legend(fontsize=16, loc='upper left').texts, ['Run 1', 'Run 2', 'Run 3', 'Run 4']):\n",
    "    text.set_text(new) \n",
    "    \n",
    "ax.set_xlabel(None)\n",
    "ax.set_ylabel(None)\n",
    "ax.tick_params(axis='both', which='major', labelsize=16)\n",
    "\n",
    "plt.yticks(np.arange(0, 0.81, 0.2))\n",
    "\n",
    "ax.spines['top'].set_visible(False)\n",
    "ax.spines['right'].set_visible(False)\n",
    "ax.spines['bottom'].set_visible(True)\n",
    "ax.spines['left'].set_visible(True)\n",
    "\n",
    "# fname = '/Users/clmn/Desktop/Andy/Articles/2023/GL/figures/fig3/fig3C_2.png'\n",
    "# plt.savefig(fname, dpi=600)\n",
    "# plt.close()"
   ]
  },
  {
   "cell_type": "code",
   "execution_count": null,
   "id": "22f5c457",
   "metadata": {},
   "outputs": [],
   "source": []
  }
 ],
 "metadata": {
  "kernelspec": {
   "display_name": "GL",
   "language": "python",
   "name": "gl"
  },
  "language_info": {
   "codemirror_mode": {
    "name": "ipython",
    "version": 3
   },
   "file_extension": ".py",
   "mimetype": "text/x-python",
   "name": "python",
   "nbconvert_exporter": "python",
   "pygments_lexer": "ipython3",
   "version": "3.12.4"
  },
  "toc": {
   "base_numbering": 1,
   "nav_menu": {},
   "number_sections": true,
   "sideBar": true,
   "skip_h1_title": false,
   "title_cell": "Table of Contents",
   "title_sidebar": "Contents",
   "toc_cell": false,
   "toc_position": {},
   "toc_section_display": true,
   "toc_window_display": false
  }
 },
 "nbformat": 4,
 "nbformat_minor": 5
}
