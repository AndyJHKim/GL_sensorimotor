{
 "cells": [
  {
   "cell_type": "code",
   "execution_count": 1,
   "id": "7d5f00d3",
   "metadata": {},
   "outputs": [],
   "source": [
    "from nilearn import surface\n",
    "from scipy import stats\n",
    "\n",
    "import matplotlib.pyplot as plt\n",
    "import nilearn\n",
    "import numpy as np\n",
    "import os\n",
    "import pandas as pd\n",
    "import pingouin as pg\n",
    "import seaborn as sns"
   ]
  },
  {
   "cell_type": "markdown",
   "id": "094b0254",
   "metadata": {},
   "source": [
    "# Preprocessing"
   ]
  },
  {
   "cell_type": "markdown",
   "id": "fb4c0e4e-ee1f-40d5-a527-1ad73b7d386f",
   "metadata": {},
   "source": [
    "Please contact the corresponding author, Sungshin Kim (sungshinkim@hanyang.ac.kr), or the first author, Junghyun Kim (juhng62@gmail.com) to get raw data."
   ]
  },
  {
   "cell_type": "code",
   "execution_count": 2,
   "id": "48de39a9",
   "metadata": {},
   "outputs": [],
   "source": [
    "index_dir = '../index'\n",
    "\n",
    "subj_list = np.genfromtxt(os.path.join(index_dir, 'GLsubjlist'), dtype='str')\n",
    "\n",
    "label_dir = '../label/Yeo2011_7Networks_N1000'\n",
    "label_DAN = nilearn.surface.load_surf_data(os.path.join(label_dir, 'lh.7Networks_3.label'))\n",
    "label_VAN = nilearn.surface.load_surf_data(os.path.join(label_dir, 'lh.7Networks_4.label'))\n",
    "label_FP = nilearn.surface.load_surf_data(os.path.join(label_dir, 'lh.7Networks_6.label'))\n",
    "label_DMN = nilearn.surface.load_surf_data(os.path.join(label_dir, 'lh.7Networks_7.label'))\n",
    "label_list = [label_DAN, label_VAN, label_FP, label_DMN]\n",
    "ROI_list = ['DAN', 'VAN', 'FPN', 'DMN']\n",
    "cond_list = ['CF', 'BF']"
   ]
  },
  {
   "cell_type": "code",
   "execution_count": 3,
   "id": "94d56df4",
   "metadata": {},
   "outputs": [],
   "source": [
    "# df_Yeo = pd.DataFrame()\n",
    "\n",
    "# subj_col = [subj for subj in subj_list for _ in range(0, 8)] # 4 labels * 2 conditions\n",
    "# df_Yeo['subj'] = subj_col\n",
    "\n",
    "# label_col = [label for label in ROI_list for _ in range(2)] * len(subj_list)\n",
    "# df_Yeo['label'] = label_col\n",
    "\n",
    "# cond_col = cond_list * len(label_list) * len(subj_list)\n",
    "# df_Yeo['cond'] = cond_col\n",
    "\n",
    "# # df_Yeo"
   ]
  },
  {
   "cell_type": "code",
   "execution_count": 4,
   "id": "b9c1a57d",
   "metadata": {},
   "outputs": [],
   "source": [
    "# beta_col = []\n",
    "\n",
    "# for subj in subj_list:\n",
    "#     beta_dir = beta_dir = f'/Users/clmn/Desktop/GL_FS/GLFS02/{subj}/main/GLanalysis02.lh'\n",
    "    \n",
    "#     for label in label_list:\n",
    "        \n",
    "#         for cond in cond_list:\n",
    "#             if cond == 'CF':\n",
    "#                 beta = nilearn.surface.load_surf_data(os.path.join(beta_dir, 'beta.nii.gz'))[:, 0]\n",
    "#             else :\n",
    "#                 beta = nilearn.surface.load_surf_data(os.path.join(beta_dir, 'beta.nii.gz'))[:, 1]\n",
    "            \n",
    "#             beta_sum = 0\n",
    "            \n",
    "#             for i_label in label:\n",
    "#                 beta_sum += beta[i_label]\n",
    "            \n",
    "#             beta_col.append(beta_sum/len(label))\n",
    "\n",
    "# # print(len(beta_col))\n",
    "\n",
    "# df_Yeo['beta'] = beta_col\n",
    "\n",
    "# df_Yeo"
   ]
  },
  {
   "cell_type": "code",
   "execution_count": 5,
   "id": "04b395cd",
   "metadata": {},
   "outputs": [],
   "source": [
    "# df_Yeo.to_csv('../data/beta_Yeo_network.csv', index=False)"
   ]
  },
  {
   "cell_type": "code",
   "execution_count": 6,
   "id": "74180a67",
   "metadata": {},
   "outputs": [
    {
     "data": {
      "text/html": [
       "<div>\n",
       "<style scoped>\n",
       "    .dataframe tbody tr th:only-of-type {\n",
       "        vertical-align: middle;\n",
       "    }\n",
       "\n",
       "    .dataframe tbody tr th {\n",
       "        vertical-align: top;\n",
       "    }\n",
       "\n",
       "    .dataframe thead th {\n",
       "        text-align: right;\n",
       "    }\n",
       "</style>\n",
       "<table border=\"1\" class=\"dataframe\">\n",
       "  <thead>\n",
       "    <tr style=\"text-align: right;\">\n",
       "      <th></th>\n",
       "      <th>subj</th>\n",
       "      <th>label</th>\n",
       "      <th>cond</th>\n",
       "      <th>beta</th>\n",
       "    </tr>\n",
       "  </thead>\n",
       "  <tbody>\n",
       "    <tr>\n",
       "      <th>0</th>\n",
       "      <td>GL03</td>\n",
       "      <td>DAN</td>\n",
       "      <td>CF</td>\n",
       "      <td>1.438713</td>\n",
       "    </tr>\n",
       "    <tr>\n",
       "      <th>1</th>\n",
       "      <td>GL03</td>\n",
       "      <td>DAN</td>\n",
       "      <td>BF</td>\n",
       "      <td>0.928882</td>\n",
       "    </tr>\n",
       "    <tr>\n",
       "      <th>2</th>\n",
       "      <td>GL03</td>\n",
       "      <td>VAN</td>\n",
       "      <td>CF</td>\n",
       "      <td>0.931456</td>\n",
       "    </tr>\n",
       "    <tr>\n",
       "      <th>3</th>\n",
       "      <td>GL03</td>\n",
       "      <td>VAN</td>\n",
       "      <td>BF</td>\n",
       "      <td>0.613224</td>\n",
       "    </tr>\n",
       "    <tr>\n",
       "      <th>4</th>\n",
       "      <td>GL03</td>\n",
       "      <td>FPN</td>\n",
       "      <td>CF</td>\n",
       "      <td>0.680407</td>\n",
       "    </tr>\n",
       "    <tr>\n",
       "      <th>...</th>\n",
       "      <td>...</td>\n",
       "      <td>...</td>\n",
       "      <td>...</td>\n",
       "      <td>...</td>\n",
       "    </tr>\n",
       "    <tr>\n",
       "      <th>187</th>\n",
       "      <td>GL29</td>\n",
       "      <td>VAN</td>\n",
       "      <td>BF</td>\n",
       "      <td>0.369337</td>\n",
       "    </tr>\n",
       "    <tr>\n",
       "      <th>188</th>\n",
       "      <td>GL29</td>\n",
       "      <td>FPN</td>\n",
       "      <td>CF</td>\n",
       "      <td>0.251929</td>\n",
       "    </tr>\n",
       "    <tr>\n",
       "      <th>189</th>\n",
       "      <td>GL29</td>\n",
       "      <td>FPN</td>\n",
       "      <td>BF</td>\n",
       "      <td>0.063697</td>\n",
       "    </tr>\n",
       "    <tr>\n",
       "      <th>190</th>\n",
       "      <td>GL29</td>\n",
       "      <td>DMN</td>\n",
       "      <td>CF</td>\n",
       "      <td>-0.027477</td>\n",
       "    </tr>\n",
       "    <tr>\n",
       "      <th>191</th>\n",
       "      <td>GL29</td>\n",
       "      <td>DMN</td>\n",
       "      <td>BF</td>\n",
       "      <td>-0.097266</td>\n",
       "    </tr>\n",
       "  </tbody>\n",
       "</table>\n",
       "<p>192 rows × 4 columns</p>\n",
       "</div>"
      ],
      "text/plain": [
       "     subj label cond      beta\n",
       "0    GL03   DAN   CF  1.438713\n",
       "1    GL03   DAN   BF  0.928882\n",
       "2    GL03   VAN   CF  0.931456\n",
       "3    GL03   VAN   BF  0.613224\n",
       "4    GL03   FPN   CF  0.680407\n",
       "..    ...   ...  ...       ...\n",
       "187  GL29   VAN   BF  0.369337\n",
       "188  GL29   FPN   CF  0.251929\n",
       "189  GL29   FPN   BF  0.063697\n",
       "190  GL29   DMN   CF -0.027477\n",
       "191  GL29   DMN   BF -0.097266\n",
       "\n",
       "[192 rows x 4 columns]"
      ]
     },
     "execution_count": 6,
     "metadata": {},
     "output_type": "execute_result"
    }
   ],
   "source": [
    "df_Yeo = pd.read_csv('../data/beta_Yeo_network.csv')\n",
    "df_Yeo"
   ]
  },
  {
   "cell_type": "markdown",
   "id": "3e6baed6",
   "metadata": {},
   "source": [
    "# Graph"
   ]
  },
  {
   "cell_type": "code",
   "execution_count": 7,
   "id": "4d348027",
   "metadata": {},
   "outputs": [],
   "source": [
    "def annot_stat_hor(star, x1, x2, y, h, col='k', ax=None):\n",
    "    ax = plt.gca() if ax is None else ax\n",
    "    ax.plot([x1, x1, x2, x2], [y, y+h, y+h, y], lw=1.5, c=col)\n",
    "    ax.text((x1+x2)*.5, y+h, star, ha='center', va='bottom', color=col)"
   ]
  },
  {
   "cell_type": "code",
   "execution_count": 8,
   "id": "ff3207a1",
   "metadata": {},
   "outputs": [
    {
     "data": {
      "image/png": "[encoded data removed]",
      "text/plain": [
       "<Figure size 400x600 with 1 Axes>"
      ]
     },
     "metadata": {},
     "output_type": "display_data"
    }
   ],
   "source": [
    "plt.figure(figsize=(4,6))\n",
    "\n",
    "ax = sns.barplot(data=df_Yeo, x='label', y='beta', hue='cond', errorbar=(\"se\", 1), capsize=0.05, \n",
    "            palette=['crimson', 'royalblue'])\n",
    "\n",
    "legend = ax.legend(fontsize=16, loc='upper right')  # This moves the legend to the top left\n",
    "for text, new in zip(legend.texts, ['CF', 'BF']):  # Update legend text as before\n",
    "    text.set_text(new)\n",
    "\n",
    "ax.set_xlabel(None)\n",
    "ax.set_ylabel(None)\n",
    "ax.tick_params(axis='both', which='major', labelsize=16)\n",
    "plt.yticks(np.arange(0, 1.5, 0.4))\n",
    "\n",
    "ax.set_ylim(-0.2, 1.5)\n",
    "    \n",
    "ax.spines['top'].set_visible(False)\n",
    "ax.spines['right'].set_visible(False)\n",
    "ax.spines['bottom'].set_visible(True)\n",
    "ax.spines['left'].set_visible(True)\n",
    "\n",
    "annot_stat_hor(star=\"****\", x1=-0.2, x2=0.2, y=ax.lines[0].get_ydata()[4]+0.05, h=0.05, col='k', ax=None)\n",
    "annot_stat_hor(star=\"**\", x1=0.8, x2=1.2, y=ax.lines[1].get_ydata()[4]+0.05, h=0.05, col='k', ax=None)\n",
    "annot_stat_hor(star=\"n.s.\", x1=1.8, x2=2.2, y=ax.lines[2].get_ydata()[4]+0.05, h=0.05, col='k', ax=None)\n",
    "annot_stat_hor(star=\"n.s.\", x1=2.8, x2=3.2, y=ax.lines[3].get_ydata()[4]+0.05, h=0.05, col='k', ax=None)\n",
    "\n",
    "# fname = '../figures/fig5A.png'\n",
    "# plt.savefig(fname, dpi=600)\n",
    "# plt.close()"
   ]
  },
  {
   "cell_type": "code",
   "execution_count": 9,
   "id": "22f3a5bd-774a-4be1-9b93-3b07be3d11b8",
   "metadata": {},
   "outputs": [
    {
     "data": {
      "image/png": "[encoded data removed]",
      "text/plain": [
       "<Figure size 400x600 with 1 Axes>"
      ]
     },
     "metadata": {},
     "output_type": "display_data"
    }
   ],
   "source": [
    "plt.figure(figsize=(4,6))\n",
    "\n",
    "ax = sns.barplot(data=df_Yeo, x='label', y='beta', hue='cond', errorbar=(\"se\", 1), capsize=0.05, \n",
    "            palette=['crimson', 'royalblue'])\n",
    "\n",
    "sns.stripplot(\n",
    "    data=df_Yeo, x='label', y='beta', hue='cond', \n",
    "    dodge=True, palette=['crimson', 'royalblue'],\n",
    "    size=3, \n",
    "    jitter=True, \n",
    "    alpha=0.5, \n",
    "    marker='o', \n",
    "    edgecolor='auto', \n",
    "    linewidth=0.5, \n",
    "    ax=ax, legend=False\n",
    ")\n",
    "\n",
    "legend = ax.legend(fontsize=16, loc='upper right')  # This moves the legend to the top left\n",
    "for text, new in zip(legend.texts, ['CF', 'BF']):  # Update legend text as before\n",
    "    text.set_text(new)\n",
    "\n",
    "ax.set_xlabel(None)\n",
    "ax.set_ylabel(None)\n",
    "ax.tick_params(axis='both', which='major', labelsize=16)\n",
    "plt.yticks(np.arange(0, 1.5, 0.4))\n",
    "\n",
    "ax.set_ylim(-0.2, 1.5)\n",
    "    \n",
    "ax.spines['top'].set_visible(False)\n",
    "ax.spines['right'].set_visible(False)\n",
    "ax.spines['bottom'].set_visible(True)\n",
    "ax.spines['left'].set_visible(True)\n",
    "\n",
    "annot_stat_hor(star=\"****\", x1=-0.2, x2=0.2, y=ax.lines[0].get_ydata()[4]+0.05, h=0.05, col='k', ax=None)\n",
    "annot_stat_hor(star=\"**\", x1=0.8, x2=1.2, y=ax.lines[1].get_ydata()[4]+0.05, h=0.05, col='k', ax=None)\n",
    "annot_stat_hor(star=\"n.s.\", x1=1.8, x2=2.2, y=ax.lines[2].get_ydata()[4]+0.05, h=0.05, col='k', ax=None)\n",
    "annot_stat_hor(star=\"n.s.\", x1=2.8, x2=3.2, y=ax.lines[3].get_ydata()[4]+0.05, h=0.05, col='k', ax=None)\n",
    "\n",
    "# fname = '../figures/fig5A.png'\n",
    "# plt.savefig(fname, dpi=600)\n",
    "# plt.close()"
   ]
  },
  {
   "cell_type": "markdown",
   "id": "0b405fbf",
   "metadata": {},
   "source": [
    "# Statistics"
   ]
  },
  {
   "cell_type": "markdown",
   "id": "564db08f",
   "metadata": {},
   "source": [
    "## T-test"
   ]
  },
  {
   "cell_type": "code",
   "execution_count": 10,
   "id": "08c55025",
   "metadata": {},
   "outputs": [
    {
     "name": "stdout",
     "output_type": "stream",
     "text": [
      "DAN : TtestResult(statistic=9.300804083581623, pvalue=2.947294088636561e-09, df=23) 1.1789176354546244e-08\n",
      "VAN : TtestResult(statistic=3.6860792855984816, pvalue=0.0012224486278133218, df=23) 0.004889794511253287\n",
      "FPN : TtestResult(statistic=-0.36194727535059673, pvalue=0.7206956670669425, df=23) 2.88278266826777\n",
      "DMN : TtestResult(statistic=1.1246022990370423, pvalue=0.2723577473207095, df=23) 1.089430989282838\n"
     ]
    }
   ],
   "source": [
    "ROI_list = ['DAN', 'VAN', 'FPN', 'DMN']\n",
    "\n",
    "for ROI in ROI_list:\n",
    "    a = df_Yeo[(df_Yeo[\"cond\"] == 'CF') & (df_Yeo[\"label\"] == ROI)].groupby('subj')['beta'].mean()\n",
    "    b = df_Yeo[(df_Yeo[\"cond\"] == 'BF') & (df_Yeo[\"label\"] == ROI)].groupby('subj')['beta'].mean()\n",
    "    print(ROI, \":\", stats.ttest_rel(a,b), stats.ttest_rel(a,b)[1]*4)"
   ]
  }
 ],
 "metadata": {
  "kernelspec": {
   "display_name": "GL",
   "language": "python",
   "name": "gl"
  },
  "language_info": {
   "codemirror_mode": {
    "name": "ipython",
    "version": 3
   },
   "file_extension": ".py",
   "mimetype": "text/x-python",
   "name": "python",
   "nbconvert_exporter": "python",
   "pygments_lexer": "ipython3",
   "version": "3.12.4"
  },
  "toc": {
   "base_numbering": 1,
   "nav_menu": {},
   "number_sections": true,
   "sideBar": true,
   "skip_h1_title": false,
   "title_cell": "Table of Contents",
   "title_sidebar": "Contents",
   "toc_cell": false,
   "toc_position": {},
   "toc_section_display": true,
   "toc_window_display": false
  }
 },
 "nbformat": 4,
 "nbformat_minor": 5
}
