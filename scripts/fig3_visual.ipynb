{
 "cells": [
  {
   "cell_type": "code",
   "execution_count": 1,
   "id": "7d5f00d3",
   "metadata": {},
   "outputs": [],
   "source": [
    "from nilearn import surface\n",
    "from scipy import stats\n",
    "\n",
    "import matplotlib.pyplot as plt\n",
    "import nilearn\n",
    "import numpy as np\n",
    "import os\n",
    "import pandas as pd\n",
    "import pingouin as pg\n",
    "import seaborn as sns"
   ]
  },
  {
   "cell_type": "markdown",
   "id": "5b9683c4",
   "metadata": {},
   "source": [
    "# Preprocessing"
   ]
  },
  {
   "cell_type": "markdown",
   "id": "5a4e78ec-2790-4b98-87e7-cdec7a84509b",
   "metadata": {},
   "source": [
    "Please contact the corresponding author, Sungshin Kim (sungshinkim@hanyang.ac.kr), or the first author, Junghyun Kim (juhng62@gmail.com) to get raw data."
   ]
  },
  {
   "cell_type": "code",
   "execution_count": 2,
   "id": "48de39a9",
   "metadata": {},
   "outputs": [],
   "source": [
    "index_dir = '../index'\n",
    "\n",
    "subj_list = np.genfromtxt(os.path.join(index_dir, 'GLsubjlist'), dtype='str')\n",
    "\n",
    "label_dir = '../label/visual'\n",
    "label_early = nilearn.surface.load_surf_data(os.path.join(label_dir, 'lh.wang2015atlas.V1+2+3d+1+2+3v.label'))\n",
    "label_V3AB = nilearn.surface.load_surf_data(os.path.join(label_dir, 'lh.wang2015atlas.V3A+B.label'))\n",
    "label_IPS0 = nilearn.surface.load_surf_data(os.path.join(label_dir, 'lh.wang2015atlas.IPS0.label'))\n",
    "label_list = [label_early, label_V3AB, label_IPS0]\n",
    "ROI_list = ['Early', 'V3AB', 'V7']\n",
    "cond_list = ['CF', 'BF']"
   ]
  },
  {
   "cell_type": "code",
   "execution_count": 3,
   "id": "94d56df4",
   "metadata": {},
   "outputs": [],
   "source": [
    "# df_fig3B = pd.DataFrame()\n",
    "\n",
    "# subj_col = [subj for subj in subj_list for _ in range(0, len(label_list)*len(cond_list))]\n",
    "# df_fig3B['subj'] = subj_col\n",
    "\n",
    "# label_col = [label for label in ROI_list for _ in range(2)] * len(subj_list)\n",
    "# df_fig3B['label'] = label_col\n",
    "\n",
    "# cond_col = cond_list * len(label_list) * len(subj_list)\n",
    "# df_fig3B['cond'] = cond_col\n",
    "\n",
    "# # df_fig3B"
   ]
  },
  {
   "cell_type": "code",
   "execution_count": 4,
   "id": "b9c1a57d",
   "metadata": {},
   "outputs": [],
   "source": [
    "# beta_col = []\n",
    "\n",
    "# for subj in subj_list:\n",
    "#     beta_dir = beta_dir = f'/Users/clmn/Desktop/GL_FS/GLFS02/{subj}/main/GLanalysis02.lh'\n",
    "    \n",
    "#     for label in label_list:\n",
    "        \n",
    "#         for cond in cond_list:\n",
    "#             if cond == 'CF':\n",
    "#                 beta = nilearn.surface.load_surf_data(os.path.join(beta_dir, 'beta.nii.gz'))[:, 0]\n",
    "#             else :\n",
    "#                 beta = nilearn.surface.load_surf_data(os.path.join(beta_dir, 'beta.nii.gz'))[:, 1]\n",
    "            \n",
    "#             beta_sum = 0\n",
    "            \n",
    "#             for i_label in label:\n",
    "#                 beta_sum += beta[i_label]\n",
    "            \n",
    "#             beta_col.append(beta_sum/len(label))\n",
    "\n",
    "# # print(len(beta_col))\n",
    "\n",
    "# df_fig3B['beta'] = beta_col\n",
    "\n",
    "# df_fig3B"
   ]
  },
  {
   "cell_type": "code",
   "execution_count": 5,
   "id": "c6132380",
   "metadata": {},
   "outputs": [],
   "source": [
    "# df_fig3B.to_csv('../data/beta_visual.csv', index=False)"
   ]
  },
  {
   "cell_type": "code",
   "execution_count": 6,
   "id": "30724d53",
   "metadata": {},
   "outputs": [
    {
     "data": {
      "text/html": [
       "<div>\n",
       "<style scoped>\n",
       "    .dataframe tbody tr th:only-of-type {\n",
       "        vertical-align: middle;\n",
       "    }\n",
       "\n",
       "    .dataframe tbody tr th {\n",
       "        vertical-align: top;\n",
       "    }\n",
       "\n",
       "    .dataframe thead th {\n",
       "        text-align: right;\n",
       "    }\n",
       "</style>\n",
       "<table border=\"1\" class=\"dataframe\">\n",
       "  <thead>\n",
       "    <tr style=\"text-align: right;\">\n",
       "      <th></th>\n",
       "      <th>subj</th>\n",
       "      <th>label</th>\n",
       "      <th>cond</th>\n",
       "      <th>beta</th>\n",
       "    </tr>\n",
       "  </thead>\n",
       "  <tbody>\n",
       "    <tr>\n",
       "      <th>0</th>\n",
       "      <td>GL03</td>\n",
       "      <td>Early</td>\n",
       "      <td>CF</td>\n",
       "      <td>0.942024</td>\n",
       "    </tr>\n",
       "    <tr>\n",
       "      <th>1</th>\n",
       "      <td>GL03</td>\n",
       "      <td>Early</td>\n",
       "      <td>BF</td>\n",
       "      <td>0.815868</td>\n",
       "    </tr>\n",
       "    <tr>\n",
       "      <th>2</th>\n",
       "      <td>GL03</td>\n",
       "      <td>V3AB</td>\n",
       "      <td>CF</td>\n",
       "      <td>0.884368</td>\n",
       "    </tr>\n",
       "    <tr>\n",
       "      <th>3</th>\n",
       "      <td>GL03</td>\n",
       "      <td>V3AB</td>\n",
       "      <td>BF</td>\n",
       "      <td>0.557036</td>\n",
       "    </tr>\n",
       "    <tr>\n",
       "      <th>4</th>\n",
       "      <td>GL03</td>\n",
       "      <td>V7</td>\n",
       "      <td>CF</td>\n",
       "      <td>1.502452</td>\n",
       "    </tr>\n",
       "    <tr>\n",
       "      <th>...</th>\n",
       "      <td>...</td>\n",
       "      <td>...</td>\n",
       "      <td>...</td>\n",
       "      <td>...</td>\n",
       "    </tr>\n",
       "    <tr>\n",
       "      <th>139</th>\n",
       "      <td>GL29</td>\n",
       "      <td>Early</td>\n",
       "      <td>BF</td>\n",
       "      <td>0.472490</td>\n",
       "    </tr>\n",
       "    <tr>\n",
       "      <th>140</th>\n",
       "      <td>GL29</td>\n",
       "      <td>V3AB</td>\n",
       "      <td>CF</td>\n",
       "      <td>0.516403</td>\n",
       "    </tr>\n",
       "    <tr>\n",
       "      <th>141</th>\n",
       "      <td>GL29</td>\n",
       "      <td>V3AB</td>\n",
       "      <td>BF</td>\n",
       "      <td>0.008751</td>\n",
       "    </tr>\n",
       "    <tr>\n",
       "      <th>142</th>\n",
       "      <td>GL29</td>\n",
       "      <td>V7</td>\n",
       "      <td>CF</td>\n",
       "      <td>1.076899</td>\n",
       "    </tr>\n",
       "    <tr>\n",
       "      <th>143</th>\n",
       "      <td>GL29</td>\n",
       "      <td>V7</td>\n",
       "      <td>BF</td>\n",
       "      <td>0.538608</td>\n",
       "    </tr>\n",
       "  </tbody>\n",
       "</table>\n",
       "<p>144 rows × 4 columns</p>\n",
       "</div>"
      ],
      "text/plain": [
       "     subj  label cond      beta\n",
       "0    GL03  Early   CF  0.942024\n",
       "1    GL03  Early   BF  0.815868\n",
       "2    GL03   V3AB   CF  0.884368\n",
       "3    GL03   V3AB   BF  0.557036\n",
       "4    GL03     V7   CF  1.502452\n",
       "..    ...    ...  ...       ...\n",
       "139  GL29  Early   BF  0.472490\n",
       "140  GL29   V3AB   CF  0.516403\n",
       "141  GL29   V3AB   BF  0.008751\n",
       "142  GL29     V7   CF  1.076899\n",
       "143  GL29     V7   BF  0.538608\n",
       "\n",
       "[144 rows x 4 columns]"
      ]
     },
     "execution_count": 6,
     "metadata": {},
     "output_type": "execute_result"
    }
   ],
   "source": [
    "df_fig3B = pd.read_csv('../data/beta_visual.csv')\n",
    "df_fig3B"
   ]
  },
  {
   "cell_type": "markdown",
   "id": "a5eb0fcd",
   "metadata": {},
   "source": [
    "# Figure 3 B"
   ]
  },
  {
   "cell_type": "markdown",
   "id": "3e6baed6",
   "metadata": {},
   "source": [
    "## Graph"
   ]
  },
  {
   "cell_type": "code",
   "execution_count": 7,
   "id": "1039ccef",
   "metadata": {},
   "outputs": [],
   "source": [
    "def annot_stat_hor(star, x1, x2, y, h, col='k', ax=None):\n",
    "    ax = plt.gca() if ax is None else ax\n",
    "    ax.plot([x1, x1, x2, x2], [y, y+h, y+h, y], lw=1.5, c=col)\n",
    "    ax.text((x1+x2)*.5, y+h, star, ha='center', va='bottom', color=col)"
   ]
  },
  {
   "cell_type": "code",
   "execution_count": 8,
   "id": "778de8c2",
   "metadata": {},
   "outputs": [],
   "source": [
    "def annot_stat_ver_left(star, y1, y2, x, w, col='k', ax=None):\n",
    "    ax = plt.gca() if ax is None else ax\n",
    "    ax.plot([x, x+w, x+w, x], [y1, y1, y2, y2], lw=1.5, c=col)\n",
    "    ax.text(x+w*1.5, (y1+y2)*.515, star, ha='center', va='center', rotation=90, color=col)"
   ]
  },
  {
   "cell_type": "code",
   "execution_count": 9,
   "id": "4a64b0bf",
   "metadata": {},
   "outputs": [],
   "source": [
    "def annot_stat_ver_right1(star, y1, y2, x, w, col='k', ax=None):\n",
    "    ax = plt.gca() if ax is None else ax\n",
    "    ax.plot([x, x+w, x+w, x], [y1, y1, y2, y2], lw=1.5, c=col)\n",
    "    ax.text(x+w*2, (y1+y2)*.46, star, ha='left', va='center', rotation=90, color=col)"
   ]
  },
  {
   "cell_type": "code",
   "execution_count": 10,
   "id": "ee9f5b3a",
   "metadata": {},
   "outputs": [],
   "source": [
    "def annot_stat_ver_right2(star, y1, y2, x, w, col='k', ax=None):\n",
    "    ax = plt.gca() if ax is None else ax\n",
    "    ax.plot([x, x+w, x+w, x], [y1, y1, y2, y2], lw=1.5, c=col)\n",
    "    ax.text(x+w*2, (y1+y2)*.54, star, ha='left', va='center', rotation=90, color=col)"
   ]
  },
  {
   "cell_type": "code",
   "execution_count": 11,
   "id": "bf4c19f3",
   "metadata": {},
   "outputs": [
    {
     "data": {
      "image/png": "[encoded data removed]",
      "text/plain": [
       "<Figure size 600x600 with 1 Axes>"
      ]
     },
     "metadata": {},
     "output_type": "display_data"
    }
   ],
   "source": [
    "plt.figure(figsize=(6,6))\n",
    "\n",
    "ax = sns.pointplot(\n",
    "    data=df_fig3B, x='label', y='beta', hue='cond', \n",
    "    errorbar=(\"se\", 1), capsize=0.05, \n",
    "    palette=['crimson', 'royalblue']\n",
    ")\n",
    "\n",
    "for text, new in zip(ax.legend(fontsize=16).texts, ['CF', 'BF']):\n",
    "    text.set_text(new)\n",
    "\n",
    "# ax.set_xlabel('', fontsize=18)\n",
    "# ax.set_ylabel('Activation (a.u.)', fontsize=18)\n",
    "ax.set_xlabel(None)\n",
    "ax.set_ylabel(None)\n",
    "ax.tick_params(axis='both', which='major', labelsize=16)\n",
    "plt.yticks(np.arange(-0.4, 1.1, 0.4))\n",
    "\n",
    "ax.tick_params(axis='x', top=False, labelbottom=True)\n",
    "ax.tick_params(axis='y', labelsize=16)\n",
    "\n",
    "# for line in ax.lines:\n",
    "#     print(line.get_ydata())\n",
    "\n",
    "annot_stat_ver_left(\"*\", ax.lines[0].get_ydata()[0], ax.lines[4].get_ydata()[0], 0-0.05, -0.02, col='k', ax=None)\n",
    "annot_stat_ver_right1(\"**\", ax.lines[0].get_ydata()[1], ax.lines[4].get_ydata()[1], 1+0.05, 0.02, col='k', ax=None)\n",
    "annot_stat_ver_right2(\"****\", ax.lines[0].get_ydata()[2], ax.lines[4].get_ydata()[2], 2+0.05, 0.02, col='k', ax=None)\n",
    "\n",
    "ax.spines['top'].set_visible(False)\n",
    "ax.spines['right'].set_visible(False)\n",
    "ax.spines['bottom'].set_visible(True)\n",
    "ax.spines['left'].set_visible(True)\n",
    "\n",
    "# fname = '../figures/fig3B.png'\n",
    "# plt.savefig(fname, dpi=600)\n",
    "# plt.close()"
   ]
  },
  {
   "cell_type": "markdown",
   "id": "9d41670d-a559-45ef-97bb-2a8cea3523b9",
   "metadata": {},
   "source": [
    "### With individual data points"
   ]
  },
  {
   "cell_type": "code",
   "execution_count": 12,
   "id": "391dbcac-54a4-47ab-af9a-c97105ce9757",
   "metadata": {},
   "outputs": [
    {
     "data": {
      "image/png": "[encoded data removed]",
      "text/plain": [
       "<Figure size 600x600 with 1 Axes>"
      ]
     },
     "metadata": {},
     "output_type": "display_data"
    }
   ],
   "source": [
    "plt.figure(figsize=(6,6))\n",
    "\n",
    "ax = sns.pointplot(\n",
    "    data=df_fig3B, x='label', y='beta', hue='cond', \n",
    "    errorbar=(\"se\", 1), capsize=0.05, \n",
    "    palette=['crimson', 'royalblue']\n",
    ")\n",
    "\n",
    "sns.stripplot(\n",
    "    data=df_fig3B, x='label', y='beta', hue='cond', \n",
    "    dodge=False, palette=['crimson', 'royalblue'],\n",
    "    size=3, \n",
    "    jitter=True, \n",
    "    alpha=0.5, \n",
    "    marker='o', \n",
    "    edgecolor='auto', \n",
    "    linewidth=0.5, \n",
    "    ax=ax, legend=False\n",
    ")\n",
    "\n",
    "for text, new in zip(ax.legend(fontsize=16).texts, ['CF', 'BF']):\n",
    "    text.set_text(new)\n",
    "\n",
    "# ax.set_xlabel('', fontsize=18)\n",
    "# ax.set_ylabel('Activation (a.u.)', fontsize=18)\n",
    "ax.set_xlabel(None)\n",
    "ax.set_ylabel(None)\n",
    "ax.tick_params(axis='both', which='major', labelsize=16)\n",
    "# plt.yticks(np.arange(-0.4, 1.1, 0.4))\n",
    "\n",
    "ax.tick_params(axis='x', top=False, labelbottom=True)\n",
    "ax.tick_params(axis='y', labelsize=16)\n",
    "\n",
    "# for line in ax.lines:\n",
    "#     print(line.get_ydata())\n",
    "\n",
    "annot_stat_ver_left(\"*\", ax.lines[0].get_ydata()[0], ax.lines[4].get_ydata()[0], 0-0.05, -0.02, col='k', ax=None)\n",
    "annot_stat_ver_right1(\"**\", ax.lines[0].get_ydata()[1], ax.lines[4].get_ydata()[1], 1+0.05, 0.02, col='k', ax=None)\n",
    "annot_stat_ver_right2(\"****\", ax.lines[0].get_ydata()[2], ax.lines[4].get_ydata()[2], 2+0.05, 0.02, col='k', ax=None)\n",
    "\n",
    "ax.spines['top'].set_visible(False)\n",
    "ax.spines['right'].set_visible(False)\n",
    "ax.spines['bottom'].set_visible(True)\n",
    "ax.spines['left'].set_visible(True)\n",
    "\n",
    "# fname = '../figures/fig3B.png'\n",
    "# plt.savefig(fname, dpi=600)\n",
    "# plt.close()"
   ]
  },
  {
   "cell_type": "markdown",
   "id": "0b405fbf",
   "metadata": {},
   "source": [
    "## Statistics"
   ]
  },
  {
   "cell_type": "markdown",
   "id": "564db08f",
   "metadata": {},
   "source": [
    "### T-test"
   ]
  },
  {
   "cell_type": "code",
   "execution_count": 13,
   "id": "1c35f540",
   "metadata": {},
   "outputs": [
    {
     "data": {
      "text/plain": [
       "TtestResult(statistic=-2.709306576090804, pvalue=0.012511758540268725, df=23)"
      ]
     },
     "execution_count": 13,
     "metadata": {},
     "output_type": "execute_result"
    }
   ],
   "source": [
    "a = df_fig3B[(df_fig3B[\"cond\"] == 'CF') & (df_fig3B[\"label\"] == 'Early')].groupby('subj')['beta'].mean()\n",
    "b = df_fig3B[(df_fig3B[\"cond\"] == 'BF') & (df_fig3B[\"label\"] == 'Early')].groupby('subj')['beta'].mean()\n",
    "stats.ttest_rel(a, b)"
   ]
  },
  {
   "cell_type": "code",
   "execution_count": 14,
   "id": "5a98f2e1",
   "metadata": {
    "scrolled": true
   },
   "outputs": [
    {
     "data": {
      "text/plain": [
       "TtestResult(statistic=3.456218684376874, pvalue=0.002144909012095771, df=23)"
      ]
     },
     "execution_count": 14,
     "metadata": {},
     "output_type": "execute_result"
    }
   ],
   "source": [
    "a = df_fig3B[(df_fig3B[\"cond\"] == 'CF') & (df_fig3B[\"label\"] == 'V3AB')].groupby('subj')['beta'].mean()\n",
    "b = df_fig3B[(df_fig3B[\"cond\"] == 'BF') & (df_fig3B[\"label\"] == 'V3AB')].groupby('subj')['beta'].mean()\n",
    "stats.ttest_rel(a, b)"
   ]
  },
  {
   "cell_type": "code",
   "execution_count": 15,
   "id": "cef5d3a4",
   "metadata": {},
   "outputs": [
    {
     "data": {
      "text/plain": [
       "TtestResult(statistic=11.980631079553575, pvalue=2.2825890111514347e-11, df=23)"
      ]
     },
     "execution_count": 15,
     "metadata": {},
     "output_type": "execute_result"
    }
   ],
   "source": [
    "a = df_fig3B[(df_fig3B[\"cond\"] == 'CF') & (df_fig3B[\"label\"] == 'V7')].groupby('subj')['beta'].mean()\n",
    "b = df_fig3B[(df_fig3B[\"cond\"] == 'BF') & (df_fig3B[\"label\"] == 'V7')].groupby('subj')['beta'].mean()\n",
    "stats.ttest_rel(a, b)"
   ]
  },
  {
   "cell_type": "markdown",
   "id": "99b5c39e",
   "metadata": {},
   "source": [
    "### 2 way rm ANOVA"
   ]
  },
  {
   "cell_type": "code",
   "execution_count": 16,
   "id": "cda682a5",
   "metadata": {},
   "outputs": [],
   "source": [
    "index_dir = '../index'\n",
    "\n",
    "df_rm = pd.DataFrame()\n",
    "\n",
    "df_rm['subj'] = np.tile(np.genfromtxt(os.path.join(index_dir, 'GLsubjlist'), dtype='str'), 6)\n",
    "\n",
    "df_rm['cond'] = np.repeat(np.array(['CF', 'BF']), 72)\n",
    "\n",
    "df_rm['label'] = np.tile(np.repeat(np.array(['4a', '4p']), 24), 3)\n",
    "\n",
    "df_rm['beta'] = np.concatenate((np.array(df_fig3B[(df_fig3B[\"cond\"] == 'CF') & (df_fig3B[\"label\"] == 'Early')].groupby('subj')['beta'].mean()), \n",
    "                                np.array(df_fig3B[(df_fig3B[\"cond\"] == 'CF') & (df_fig3B[\"label\"] == 'V3AB')].groupby('subj')['beta'].mean()), \n",
    "                                np.array(df_fig3B[(df_fig3B[\"cond\"] == 'CF') & (df_fig3B[\"label\"] == 'V7')].groupby('subj')['beta'].mean()),\n",
    "                                np.array(df_fig3B[(df_fig3B[\"cond\"] == 'BF') & (df_fig3B[\"label\"] == 'Early')].groupby('subj')['beta'].mean()), \n",
    "                                np.array(df_fig3B[(df_fig3B[\"cond\"] == 'BF') & (df_fig3B[\"label\"] == 'V3AB')].groupby('subj')['beta'].mean()), \n",
    "                                np.array(df_fig3B[(df_fig3B[\"cond\"] == 'BF') & (df_fig3B[\"label\"] == 'V7')].groupby('subj')['beta'].mean())))\n",
    "\n",
    "# df_rm"
   ]
  },
  {
   "cell_type": "code",
   "execution_count": 17,
   "id": "bb69ad00",
   "metadata": {},
   "outputs": [
    {
     "name": "stderr",
     "output_type": "stream",
     "text": [
      "/opt/anaconda3/envs/GL/lib/python3.12/site-packages/pingouin/distribution.py:507: FutureWarning: DataFrame.groupby with axis=1 is deprecated. Do `frame.T.groupby(...)` without axis instead.\n",
      "  data.groupby(level=1, axis=1, observed=True, group_keys=False)\n",
      "/opt/anaconda3/envs/GL/lib/python3.12/site-packages/pingouin/distribution.py:508: FutureWarning: DataFrameGroupBy.diff with axis=1 is deprecated and will be removed in a future version. Operate on the un-grouped DataFrame instead\n",
      "  .diff(axis=1)\n"
     ]
    },
    {
     "data": {
      "text/html": [
       "<div>\n",
       "<style scoped>\n",
       "    .dataframe tbody tr th:only-of-type {\n",
       "        vertical-align: middle;\n",
       "    }\n",
       "\n",
       "    .dataframe tbody tr th {\n",
       "        vertical-align: top;\n",
       "    }\n",
       "\n",
       "    .dataframe thead th {\n",
       "        text-align: right;\n",
       "    }\n",
       "</style>\n",
       "<table border=\"1\" class=\"dataframe\">\n",
       "  <thead>\n",
       "    <tr style=\"text-align: right;\">\n",
       "      <th></th>\n",
       "      <th>Source</th>\n",
       "      <th>SS</th>\n",
       "      <th>ddof1</th>\n",
       "      <th>ddof2</th>\n",
       "      <th>MS</th>\n",
       "      <th>F</th>\n",
       "      <th>p-unc</th>\n",
       "      <th>p-GG-corr</th>\n",
       "      <th>ng2</th>\n",
       "      <th>eps</th>\n",
       "    </tr>\n",
       "  </thead>\n",
       "  <tbody>\n",
       "    <tr>\n",
       "      <th>0</th>\n",
       "      <td>cond</td>\n",
       "      <td>2.078573</td>\n",
       "      <td>1</td>\n",
       "      <td>23</td>\n",
       "      <td>2.078573</td>\n",
       "      <td>29.736141</td>\n",
       "      <td>1.526858e-05</td>\n",
       "      <td>1.526858e-05</td>\n",
       "      <td>0.038549</td>\n",
       "      <td>1.0</td>\n",
       "    </tr>\n",
       "    <tr>\n",
       "      <th>1</th>\n",
       "      <td>label</td>\n",
       "      <td>0.055203</td>\n",
       "      <td>1</td>\n",
       "      <td>23</td>\n",
       "      <td>0.055203</td>\n",
       "      <td>3.451305</td>\n",
       "      <td>7.605071e-02</td>\n",
       "      <td>7.605071e-02</td>\n",
       "      <td>0.001064</td>\n",
       "      <td>1.0</td>\n",
       "    </tr>\n",
       "    <tr>\n",
       "      <th>2</th>\n",
       "      <td>cond * label</td>\n",
       "      <td>10.717903</td>\n",
       "      <td>1</td>\n",
       "      <td>23</td>\n",
       "      <td>10.717903</td>\n",
       "      <td>97.595029</td>\n",
       "      <td>9.613476e-10</td>\n",
       "      <td>9.613476e-10</td>\n",
       "      <td>0.171323</td>\n",
       "      <td>1.0</td>\n",
       "    </tr>\n",
       "  </tbody>\n",
       "</table>\n",
       "</div>"
      ],
      "text/plain": [
       "         Source         SS  ddof1  ddof2         MS          F         p-unc  \\\n",
       "0          cond   2.078573      1     23   2.078573  29.736141  1.526858e-05   \n",
       "1         label   0.055203      1     23   0.055203   3.451305  7.605071e-02   \n",
       "2  cond * label  10.717903      1     23  10.717903  97.595029  9.613476e-10   \n",
       "\n",
       "      p-GG-corr       ng2  eps  \n",
       "0  1.526858e-05  0.038549  1.0  \n",
       "1  7.605071e-02  0.001064  1.0  \n",
       "2  9.613476e-10  0.171323  1.0  "
      ]
     },
     "execution_count": 17,
     "metadata": {},
     "output_type": "execute_result"
    }
   ],
   "source": [
    "aov = pg.rm_anova(data=df_rm, dv='beta', within=['cond', 'label'], subject='subj')\n",
    "\n",
    "aov"
   ]
  },
  {
   "cell_type": "code",
   "execution_count": null,
   "id": "7fa532f5",
   "metadata": {},
   "outputs": [],
   "source": []
  }
 ],
 "metadata": {
  "kernelspec": {
   "display_name": "GL",
   "language": "python",
   "name": "gl"
  },
  "language_info": {
   "codemirror_mode": {
    "name": "ipython",
    "version": 3
   },
   "file_extension": ".py",
   "mimetype": "text/x-python",
   "name": "python",
   "nbconvert_exporter": "python",
   "pygments_lexer": "ipython3",
   "version": "3.12.4"
  },
  "toc": {
   "base_numbering": 1,
   "nav_menu": {},
   "number_sections": true,
   "sideBar": true,
   "skip_h1_title": false,
   "title_cell": "Table of Contents",
   "title_sidebar": "Contents",
   "toc_cell": false,
   "toc_position": {},
   "toc_section_display": true,
   "toc_window_display": false
  }
 },
 "nbformat": 4,
 "nbformat_minor": 5
}
