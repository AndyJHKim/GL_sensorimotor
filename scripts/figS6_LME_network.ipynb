{
 "cells": [
  {
   "cell_type": "code",
   "execution_count": 1,
   "id": "ab4ff56c",
   "metadata": {},
   "outputs": [],
   "source": [
    "import matplotlib.pyplot as plt\n",
    "import numpy as np\n",
    "import pandas as pd\n",
    "import scipy as sp\n",
    "from scipy import stats\n",
    "import seaborn as sns\n",
    "import statsmodels.formula.api as smf"
   ]
  },
  {
   "cell_type": "markdown",
   "id": "40a5e9ff",
   "metadata": {},
   "source": [
    "# Preprocessing"
   ]
  },
  {
   "cell_type": "code",
   "execution_count": 2,
   "id": "4f9b0e03",
   "metadata": {},
   "outputs": [
    {
     "name": "stdout",
     "output_type": "stream",
     "text": [
      "    Participant Run         Y        XA        XB        XC        XD  \\\n",
      "0             0  Y1  0.173843  0.311939  0.193193  0.146982  0.092920   \n",
      "1             1  Y1  0.396354  0.253556  0.179394  0.376907  0.136628   \n",
      "2             2  Y1  0.181944  0.397014  0.005715 -0.021800  0.464521   \n",
      "3             3  Y1  0.134896  0.585376  0.337665 -0.028184  0.612987   \n",
      "4             4  Y1  0.182350  0.352137  0.387990 -0.080488  0.461723   \n",
      "..          ...  ..       ...       ...       ...       ...       ...   \n",
      "91           19  Y4  0.566898  0.372670  0.398018  0.147996  0.289133   \n",
      "92           20  Y4  0.540625  0.304874  0.413692  0.188170  0.301825   \n",
      "93           21  Y4  0.384838  0.280372  0.035014 -0.056040  0.364194   \n",
      "94           22  Y4  0.386285  0.314856  0.288872  0.143907  0.312225   \n",
      "95           23  Y4  0.478125  0.353334  0.117478  0.458497  0.398607   \n",
      "\n",
      "          XE        XF        XG  ...        nY       nXA       nXB       nXC  \\\n",
      "0   0.068852  0.115791  0.047419  ...  0.063484  0.304060  0.202364 -0.160713   \n",
      "1   0.201291 -0.053285 -0.225472  ...  0.181597  0.507139  0.293097 -0.124491   \n",
      "2   0.081016  0.128153 -0.209649  ...  0.042940  0.269300  0.264417  0.027287   \n",
      "3   0.344597  0.038865  0.047346  ...  0.051331  0.478585  0.488331  0.018028   \n",
      "4   0.273677 -0.091887 -0.349356  ...  0.018403  0.479755  0.340839 -0.349850   \n",
      "..       ...       ...       ...  ...       ...       ...       ...       ...   \n",
      "91  0.321067  0.192875  0.091691  ...  0.070312  0.517682  0.354208 -0.257829   \n",
      "92  0.447038  0.435882  0.011072  ...  0.256887  0.260389  0.233435 -0.316333   \n",
      "93  0.237908 -0.063509 -0.056698  ...  0.141493  0.153337  0.038054  0.042698   \n",
      "94  0.323545  0.292699  0.395041  ...  0.052431  0.188544  0.088359 -0.012050   \n",
      "95  0.287719  0.536269  0.259847  ...  0.236053  0.425867  0.441364  0.324538   \n",
      "\n",
      "         nXD       nXE       nXF       nXG       nXH       nXI  \n",
      "0   0.130394  0.179738  0.010058 -0.015776  0.027373  0.186954  \n",
      "1   0.373894  0.416268 -0.160806 -0.136065 -0.147279  0.195564  \n",
      "2   0.424961  0.462209 -0.005396 -0.040882 -0.133895 -0.015950  \n",
      "3   0.590933  0.421530  0.044113 -0.209703 -0.115727  0.304071  \n",
      "4   0.719185  0.467398 -0.273896 -0.264898 -0.180249  0.047853  \n",
      "..       ...       ...       ...       ...       ...       ...  \n",
      "91  0.342252  0.421031 -0.039366  0.016147  0.198020  0.431973  \n",
      "92  0.183118  0.234216 -0.027996 -0.165100 -0.140273 -0.177669  \n",
      "93  0.243134  0.144149  0.140823  0.069246 -0.108534  0.444734  \n",
      "94  0.315702  0.669275  0.453423  0.059923  0.054822  0.217920  \n",
      "95  0.452352  0.489564  0.117348  0.157694  0.098461  0.188839  \n",
      "\n",
      "[96 rows x 22 columns]\n"
     ]
    }
   ],
   "source": [
    "df = pd.read_excel('../data/GL_behavior_con.xlsx')\n",
    "df_melted2 = pd.melt(df, id_vars=[\"Unnamed: 0\"], \n",
    "                    value_vars=[f\"Y{i}\" for i in range(1, 5)], \n",
    "                    var_name=\"Run\",\n",
    "                    value_name='Y')\n",
    "\n",
    "# Extracting XA, XB, and XC values for each functional run and participant\n",
    "for prefix in [\"XA\", \"XB\", \"XC\", \"XD\", \"XE\", \"XF\", \"XG\", \"XH\", \"XI\", \"nY\", \"nXA\", \"nXB\", \"nXC\", \"nXD\", \"nXE\", \"nXF\", \"nXG\", \"nXH\", \"nXI\"]:\n",
    "    df_melted2[prefix] = df_melted2.apply(lambda row: df.at[row[\"Unnamed: 0\"], f\"{prefix}{row['Run'][1]}\"], axis=1)\n",
    "\n",
    "# Renaming the 'Unnamed: 0' column to 'Participant'\n",
    "df_melted2 = df_melted2.rename(columns={\"Unnamed: 0\": \"Participant\"})\n",
    "\n",
    "# Displaying the reshaped dataframe\n",
    "print(df_melted2)"
   ]
  },
  {
   "cell_type": "code",
   "execution_count": 3,
   "id": "9123417b",
   "metadata": {},
   "outputs": [
    {
     "name": "stdout",
     "output_type": "stream",
     "text": [
      "    Participant Run         Y        XA        XB        XC        XD  \\\n",
      "0             0  Y1  0.173843  0.311939  0.193193  0.146982  0.092920   \n",
      "1             1  Y1  0.396354  0.253556  0.179394  0.376907  0.136628   \n",
      "2             2  Y1  0.181944  0.397014  0.005715 -0.021800  0.464521   \n",
      "3             3  Y1  0.134896  0.585376  0.337665 -0.028184  0.612987   \n",
      "4             4  Y1  0.182350  0.352137  0.387990 -0.080488  0.461723   \n",
      "..          ...  ..       ...       ...       ...       ...       ...   \n",
      "91           19  Y4  0.566898  0.372670  0.398018  0.147996  0.289133   \n",
      "92           20  Y4  0.540625  0.304874  0.413692  0.188170  0.301825   \n",
      "93           21  Y4  0.384838  0.280372  0.035014 -0.056040  0.364194   \n",
      "94           22  Y4  0.386285  0.314856  0.288872  0.143907  0.312225   \n",
      "95           23  Y4  0.478125  0.353334  0.117478  0.458497  0.398607   \n",
      "\n",
      "          XE        XF        XG        XH        XI  \n",
      "0   0.068852  0.115791  0.047419  0.077224  0.644033  \n",
      "1   0.201291 -0.053285 -0.225472 -0.178116  0.146724  \n",
      "2   0.081016  0.128153 -0.209649 -0.070232  0.041311  \n",
      "3   0.344597  0.038865  0.047346  0.052376  0.446506  \n",
      "4   0.273677 -0.091887 -0.349356 -0.089710  0.152241  \n",
      "..       ...       ...       ...       ...       ...  \n",
      "91  0.321067  0.192875  0.091691  0.007350  0.132937  \n",
      "92  0.447038  0.435882  0.011072 -0.114868 -0.234357  \n",
      "93  0.237908 -0.063509 -0.056698 -0.160443  0.184424  \n",
      "94  0.323545  0.292699  0.395041  0.217411  0.426889  \n",
      "95  0.287719  0.536269  0.259847  0.152538  0.146814  \n",
      "\n",
      "[96 rows x 12 columns]\n",
      "    Participant Run        nY       nXA       nXB       nXC       nXD  \\\n",
      "0             0  Y1  0.063484  0.304060  0.202364 -0.160713  0.130394   \n",
      "1             1  Y1  0.181597  0.507139  0.293097 -0.124491  0.373894   \n",
      "2             2  Y1  0.042940  0.269300  0.264417  0.027287  0.424961   \n",
      "3             3  Y1  0.051331  0.478585  0.488331  0.018028  0.590933   \n",
      "4             4  Y1  0.018403  0.479755  0.340839 -0.349850  0.719185   \n",
      "..          ...  ..       ...       ...       ...       ...       ...   \n",
      "91           19  Y4  0.070312  0.517682  0.354208 -0.257829  0.342252   \n",
      "92           20  Y4  0.256887  0.260389  0.233435 -0.316333  0.183118   \n",
      "93           21  Y4  0.141493  0.153337  0.038054  0.042698  0.243134   \n",
      "94           22  Y4  0.052431  0.188544  0.088359 -0.012050  0.315702   \n",
      "95           23  Y4  0.236053  0.425867  0.441364  0.324538  0.452352   \n",
      "\n",
      "         nXE       nXF       nXG       nXH       nXI  \n",
      "0   0.179738  0.010058 -0.015776  0.027373  0.186954  \n",
      "1   0.416268 -0.160806 -0.136065 -0.147279  0.195564  \n",
      "2   0.462209 -0.005396 -0.040882 -0.133895 -0.015950  \n",
      "3   0.421530  0.044113 -0.209703 -0.115727  0.304071  \n",
      "4   0.467398 -0.273896 -0.264898 -0.180249  0.047853  \n",
      "..       ...       ...       ...       ...       ...  \n",
      "91  0.421031 -0.039366  0.016147  0.198020  0.431973  \n",
      "92  0.234216 -0.027996 -0.165100 -0.140273 -0.177669  \n",
      "93  0.144149  0.140823  0.069246 -0.108534  0.444734  \n",
      "94  0.669275  0.453423  0.059923  0.054822  0.217920  \n",
      "95  0.489564  0.117348  0.157694  0.098461  0.188839  \n",
      "\n",
      "[96 rows x 12 columns]\n"
     ]
    }
   ],
   "source": [
    "df_CF = df_melted2.iloc[:, :12]\n",
    "df_BF = df_melted2.iloc[:, 12:]\n",
    "df_BF = pd.concat([df_CF.iloc[:,:2], df_BF], axis=1)\n",
    "print(df_CF)\n",
    "print(df_BF)"
   ]
  },
  {
   "cell_type": "code",
   "execution_count": 4,
   "id": "71eabbbf",
   "metadata": {},
   "outputs": [
    {
     "data": {
      "text/html": [
       "<div>\n",
       "<style scoped>\n",
       "    .dataframe tbody tr th:only-of-type {\n",
       "        vertical-align: middle;\n",
       "    }\n",
       "\n",
       "    .dataframe tbody tr th {\n",
       "        vertical-align: top;\n",
       "    }\n",
       "\n",
       "    .dataframe thead th {\n",
       "        text-align: right;\n",
       "    }\n",
       "</style>\n",
       "<table border=\"1\" class=\"dataframe\">\n",
       "  <thead>\n",
       "    <tr style=\"text-align: right;\">\n",
       "      <th></th>\n",
       "      <th>Participant</th>\n",
       "      <th>Run</th>\n",
       "      <th>nY</th>\n",
       "      <th>x</th>\n",
       "    </tr>\n",
       "  </thead>\n",
       "  <tbody>\n",
       "    <tr>\n",
       "      <th>0</th>\n",
       "      <td>0</td>\n",
       "      <td>Y1</td>\n",
       "      <td>0.063484</td>\n",
       "      <td>0.864450</td>\n",
       "    </tr>\n",
       "    <tr>\n",
       "      <th>1</th>\n",
       "      <td>1</td>\n",
       "      <td>Y1</td>\n",
       "      <td>0.181597</td>\n",
       "      <td>1.217320</td>\n",
       "    </tr>\n",
       "    <tr>\n",
       "      <th>2</th>\n",
       "      <td>2</td>\n",
       "      <td>Y1</td>\n",
       "      <td>0.042940</td>\n",
       "      <td>1.252050</td>\n",
       "    </tr>\n",
       "    <tr>\n",
       "      <th>3</th>\n",
       "      <td>3</td>\n",
       "      <td>Y1</td>\n",
       "      <td>0.051331</td>\n",
       "      <td>2.020161</td>\n",
       "    </tr>\n",
       "    <tr>\n",
       "      <th>4</th>\n",
       "      <td>4</td>\n",
       "      <td>Y1</td>\n",
       "      <td>0.018403</td>\n",
       "      <td>0.986137</td>\n",
       "    </tr>\n",
       "    <tr>\n",
       "      <th>...</th>\n",
       "      <td>...</td>\n",
       "      <td>...</td>\n",
       "      <td>...</td>\n",
       "      <td>...</td>\n",
       "    </tr>\n",
       "    <tr>\n",
       "      <th>91</th>\n",
       "      <td>19</td>\n",
       "      <td>Y4</td>\n",
       "      <td>0.070312</td>\n",
       "      <td>1.984119</td>\n",
       "    </tr>\n",
       "    <tr>\n",
       "      <th>92</th>\n",
       "      <td>20</td>\n",
       "      <td>Y4</td>\n",
       "      <td>0.256887</td>\n",
       "      <td>0.083787</td>\n",
       "    </tr>\n",
       "    <tr>\n",
       "      <th>93</th>\n",
       "      <td>21</td>\n",
       "      <td>Y4</td>\n",
       "      <td>0.141493</td>\n",
       "      <td>1.167641</td>\n",
       "    </tr>\n",
       "    <tr>\n",
       "      <th>94</th>\n",
       "      <td>22</td>\n",
       "      <td>Y4</td>\n",
       "      <td>0.052431</td>\n",
       "      <td>2.035917</td>\n",
       "    </tr>\n",
       "    <tr>\n",
       "      <th>95</th>\n",
       "      <td>23</td>\n",
       "      <td>Y4</td>\n",
       "      <td>0.236053</td>\n",
       "      <td>2.696028</td>\n",
       "    </tr>\n",
       "  </tbody>\n",
       "</table>\n",
       "<p>96 rows × 4 columns</p>\n",
       "</div>"
      ],
      "text/plain": [
       "    Participant Run        nY         x\n",
       "0             0  Y1  0.063484  0.864450\n",
       "1             1  Y1  0.181597  1.217320\n",
       "2             2  Y1  0.042940  1.252050\n",
       "3             3  Y1  0.051331  2.020161\n",
       "4             4  Y1  0.018403  0.986137\n",
       "..          ...  ..       ...       ...\n",
       "91           19  Y4  0.070312  1.984119\n",
       "92           20  Y4  0.256887  0.083787\n",
       "93           21  Y4  0.141493  1.167641\n",
       "94           22  Y4  0.052431  2.035917\n",
       "95           23  Y4  0.236053  2.696028\n",
       "\n",
       "[96 rows x 4 columns]"
      ]
     },
     "execution_count": 4,
     "metadata": {},
     "output_type": "execute_result"
    }
   ],
   "source": [
    "df_CF_sum = pd.concat([df_CF.iloc[:,:3], df_CF.iloc[:, 3:].sum(axis=1)], axis=1)\n",
    "df_BF_sum = pd.concat([df_BF.iloc[:,:3], df_BF.iloc[:, 3:].sum(axis=1)], axis=1)\n",
    "\n",
    "df_CF_sum = df_CF_sum.rename(columns={0: 'x'})\n",
    "df_BF_sum = df_BF_sum.rename(columns={0: 'x'})\n",
    "\n",
    "df_BF_sum"
   ]
  },
  {
   "cell_type": "markdown",
   "id": "ab9f289a",
   "metadata": {},
   "source": [
    "# T-test"
   ]
  },
  {
   "cell_type": "code",
   "execution_count": 5,
   "id": "4e6a0287",
   "metadata": {},
   "outputs": [],
   "source": [
    "run1_data = df_CF_sum[df_CF_sum['Run'] == 'Y1']\n",
    "x_run1 = run1_data['x']\n",
    "\n",
    "run4_data = df_CF_sum[df_CF_sum['Run'] == 'Y4']\n",
    "x_run4 = run4_data['x']"
   ]
  },
  {
   "cell_type": "code",
   "execution_count": 6,
   "id": "25314b91",
   "metadata": {},
   "outputs": [
    {
     "data": {
      "text/plain": [
       "TtestResult(statistic=0.5080006514265208, pvalue=0.6162904514144126, df=23)"
      ]
     },
     "execution_count": 6,
     "metadata": {},
     "output_type": "execute_result"
    }
   ],
   "source": [
    "stats.ttest_rel(x_run1, x_run4)"
   ]
  },
  {
   "cell_type": "code",
   "execution_count": 7,
   "id": "6372f3d4",
   "metadata": {},
   "outputs": [],
   "source": [
    "run1_data = df_BF_sum[df_BF_sum['Run'] == 'Y1']\n",
    "x_run1 = run1_data['x']\n",
    "\n",
    "run4_data = df_BF_sum[df_BF_sum['Run'] == 'Y4']\n",
    "x_run4 = run4_data['x']"
   ]
  },
  {
   "cell_type": "code",
   "execution_count": 8,
   "id": "baf48891",
   "metadata": {},
   "outputs": [
    {
     "data": {
      "text/plain": [
       "TtestResult(statistic=0.6322748014811396, pvalue=0.5334428644191693, df=23)"
      ]
     },
     "execution_count": 8,
     "metadata": {},
     "output_type": "execute_result"
    }
   ],
   "source": [
    "stats.ttest_rel(x_run1, x_run4)"
   ]
  },
  {
   "cell_type": "markdown",
   "id": "661c0604",
   "metadata": {},
   "source": [
    "# LME"
   ]
  },
  {
   "cell_type": "code",
   "execution_count": 9,
   "id": "995fb124",
   "metadata": {},
   "outputs": [
    {
     "name": "stdout",
     "output_type": "stream",
     "text": [
      "        Mixed Linear Model Regression Results\n",
      "=====================================================\n",
      "Model:            MixedLM Dependent Variable: Y      \n",
      "No. Observations: 96      Method:             REML   \n",
      "No. Groups:       24      Scale:              0.0168 \n",
      "Min. group size:  4       Log-Likelihood:     44.3367\n",
      "Max. group size:  4       Converged:          Yes    \n",
      "Mean group size:  4.0                                \n",
      "-----------------------------------------------------\n",
      "           Coef.  Std.Err.   z    P>|z| [0.025 0.975]\n",
      "-----------------------------------------------------\n",
      "Intercept   0.430    0.042 10.199 0.000  0.347  0.512\n",
      "x          -0.049    0.024 -2.075 0.038 -0.095 -0.003\n",
      "Group Var   0.006    0.027                           \n",
      "=====================================================\n",
      "\n"
     ]
    },
    {
     "name": "stderr",
     "output_type": "stream",
     "text": [
      "/opt/anaconda3/lib/python3.9/site-packages/statsmodels/regression/mixed_linear_model.py:2237: ConvergenceWarning: The MLE may be on the boundary of the parameter space.\n",
      "  warnings.warn(msg, ConvergenceWarning)\n",
      "/opt/anaconda3/lib/python3.9/site-packages/statsmodels/iolib/summary2.py:579: FutureWarning: DataFrame.applymap has been deprecated. Use DataFrame.map instead.\n",
      "  dat = dat.applymap(lambda x: _formatter(x, float_format))\n"
     ]
    }
   ],
   "source": [
    "# Fitting the linear mixed-effects model\n",
    "model_formula = \"Y ~ x\"\n",
    "lmm = smf.mixedlm(model_formula, df_CF_sum, groups=df_CF_sum[\"Participant\"]).fit()\n",
    "\n",
    "# Lmer('Y ~ XA', data=df_melted)\n",
    "# Displaying the model summary\n",
    "print(lmm.summary())"
   ]
  },
  {
   "cell_type": "code",
   "execution_count": 10,
   "id": "dcab5983",
   "metadata": {},
   "outputs": [
    {
     "name": "stderr",
     "output_type": "stream",
     "text": [
      "/var/folders/5l/5jx0ryjd29d_6j6kvcyfc7cr0000gn/T/ipykernel_56742/390730690.py:3: UserWarning: \n",
      "The palette list has fewer values (1) than needed (4) and will cycle, which may produce an uninterpretable plot.\n",
      "  ax = sns.scatterplot(data=df_CF_sum, x=\"x\", y=\"Y\", hue=\"Run\", style='Run', palette=['gray'], markers=[\"o\", \"s\", \"^\", \"X\"], s=70)\n"
     ]
    },
    {
     "data": {
      "image/png": "[encoded data removed]",
      "text/plain": [
       "<Figure size 864x432 with 1 Axes>"
      ]
     },
     "metadata": {
      "needs_background": "light"
     },
     "output_type": "display_data"
    }
   ],
   "source": [
    "plt.figure(figsize=(12, 6))\n",
    "\n",
    "ax = sns.scatterplot(data=df_CF_sum, x=\"x\", y=\"Y\", hue=\"Run\", style='Run', palette=['gray'], markers=[\"o\", \"s\", \"^\", \"X\"], s=70)\n",
    "\n",
    "intercept_coeff = lmm.params['Intercept']\n",
    "slope_coeff = lmm.params['x']\n",
    "std_err_intercept = lmm.bse['Intercept']\n",
    "std_err_slope = lmm.bse['x']\n",
    "\n",
    "# https://matplotlib.org/stable/gallery/lines_bars_and_markers/fill_between_demo.html#sphx-glr-gallery-lines-bars-and-markers-fill-between-demo-py\n",
    "x = df_CF_sum.sort_values(by=\"x\")[\"x\"]\n",
    "y = df_CF_sum.sort_values(by=\"Y\")[\"Y\"]\n",
    "y_est = intercept_coeff + slope_coeff * x\n",
    "y_err = x.std() * np.sqrt(1/len(x) + (x - x.mean())**2 / np.sum((x - x.mean())**2))\n",
    "\n",
    "ax.plot(x, y_est, '-', color='black')\n",
    "ax.fill_between(x, y_est - y_err, y_est + y_err, color='gray', alpha=0.3)\n",
    "\n",
    "for text, new in zip(plt.legend(fontsize=16, loc='upper left').texts, ['Run 1', 'Run 2', 'Run 3', 'Run 4']):\n",
    "    text.set_text(new) \n",
    "    \n",
    "ax.set_xlabel(None)\n",
    "ax.set_ylabel(None)\n",
    "ax.tick_params(axis='both', which='major', labelsize=16)\n",
    "plt.xticks(np.arange(0, max(x), step=0.6))\n",
    "plt.yticks(np.arange(0.1, max(y), 0.2))\n",
    "\n",
    "ax.spines['top'].set_visible(False)\n",
    "ax.spines['right'].set_visible(False)\n",
    "ax.spines['bottom'].set_visible(True)\n",
    "ax.spines['left'].set_visible(True)\n",
    "\n",
    "# fname = '/Users/clmn/Desktop/Andy/Masters/Articles/GL/figures/figS6/v02/LME_CF.png'\n",
    "# plt.savefig(fname, dpi=600)\n",
    "# plt.close()"
   ]
  },
  {
   "cell_type": "code",
   "execution_count": 11,
   "id": "d3e339a1",
   "metadata": {},
   "outputs": [
    {
     "name": "stderr",
     "output_type": "stream",
     "text": [
      "/opt/anaconda3/lib/python3.9/site-packages/statsmodels/regression/mixed_linear_model.py:2237: ConvergenceWarning: The MLE may be on the boundary of the parameter space.\n",
      "  warnings.warn(msg, ConvergenceWarning)\n"
     ]
    },
    {
     "name": "stdout",
     "output_type": "stream",
     "text": [
      "        Mixed Linear Model Regression Results\n",
      "======================================================\n",
      "Model:            MixedLM Dependent Variable: nY      \n",
      "No. Observations: 96      Method:             REML    \n",
      "No. Groups:       24      Scale:              0.0041  \n",
      "Min. group size:  4       Log-Likelihood:     102.2818\n",
      "Max. group size:  4       Converged:          Yes     \n",
      "Mean group size:  4.0                                 \n",
      "------------------------------------------------------\n",
      "            Coef.  Std.Err.   z    P>|z| [0.025 0.975]\n",
      "------------------------------------------------------\n",
      "Intercept    0.136    0.021  6.604 0.000  0.095  0.176\n",
      "x           -0.015    0.013 -1.153 0.249 -0.040  0.010\n",
      "Group Var    0.004    0.028                           \n",
      "======================================================\n"
     ]
    },
    {
     "name": "stderr",
     "output_type": "stream",
     "text": [
      "/opt/anaconda3/lib/python3.9/site-packages/statsmodels/iolib/summary2.py:579: FutureWarning: DataFrame.applymap has been deprecated. Use DataFrame.map instead.\n",
      "  dat = dat.applymap(lambda x: _formatter(x, float_format))\n"
     ]
    },
    {
     "name": "stdout",
     "output_type": "stream",
     "text": [
      "\n"
     ]
    }
   ],
   "source": [
    "# Fitting the linear mixed-effects model\n",
    "model_formula = \"nY ~ x\"\n",
    "lmm = smf.mixedlm(model_formula, df_BF_sum, groups=df_BF_sum[\"Participant\"]).fit()\n",
    "\n",
    "# Lmer('Y ~ XA', data=df_melted)\n",
    "# Displaying the model summary\n",
    "print(lmm.summary())"
   ]
  },
  {
   "cell_type": "code",
   "execution_count": 12,
   "id": "beeaf837",
   "metadata": {},
   "outputs": [
    {
     "name": "stderr",
     "output_type": "stream",
     "text": [
      "/var/folders/5l/5jx0ryjd29d_6j6kvcyfc7cr0000gn/T/ipykernel_56742/1945987576.py:3: UserWarning: \n",
      "The palette list has fewer values (1) than needed (4) and will cycle, which may produce an uninterpretable plot.\n",
      "  ax = sns.scatterplot(data=df_BF_sum, x=\"x\", y=\"nY\", hue=\"Run\", style='Run', palette=['gray'], markers=[\"o\", \"s\", \"^\", \"X\"], s=70)\n"
     ]
    },
    {
     "data": {
      "image/png": "[encoded data removed]",
      "text/plain": [
       "<Figure size 864x432 with 1 Axes>"
      ]
     },
     "metadata": {
      "needs_background": "light"
     },
     "output_type": "display_data"
    }
   ],
   "source": [
    "plt.figure(figsize=(12, 6))\n",
    "\n",
    "ax = sns.scatterplot(data=df_BF_sum, x=\"x\", y=\"nY\", hue=\"Run\", style='Run', palette=['gray'], markers=[\"o\", \"s\", \"^\", \"X\"], s=70)\n",
    "\n",
    "intercept_coeff = lmm.params['Intercept']\n",
    "slope_coeff = lmm.params['x']\n",
    "std_err_intercept = lmm.bse['Intercept']\n",
    "std_err_slope = lmm.bse['x']\n",
    "\n",
    "# https://matplotlib.org/stable/gallery/lines_bars_and_markers/fill_between_demo.html#sphx-glr-gallery-lines-bars-and-markers-fill-between-demo-py\n",
    "x = df_BF_sum.sort_values(by=\"x\")[\"x\"]\n",
    "y = df_BF_sum.sort_values(by=\"nY\")[\"nY\"]\n",
    "y_est = intercept_coeff + slope_coeff * x\n",
    "y_err = x.std() * np.sqrt(1/len(x) + (x - x.mean())**2 / np.sum((x - x.mean())**2))\n",
    "\n",
    "ax.plot(x, y_est, '-', color='black')\n",
    "ax.fill_between(x, y_est - y_err, y_est + y_err, color='gray', alpha=0.3)\n",
    "\n",
    "for text, new in zip(plt.legend(fontsize=16, loc='upper left').texts, ['Run 1', 'Run 2', 'Run 3', 'Run 4']):\n",
    "    text.set_text(new) \n",
    "    \n",
    "ax.set_xlabel(None)\n",
    "ax.set_ylabel(None)\n",
    "ax.tick_params(axis='both', which='major', labelsize=16)\n",
    "plt.xticks(np.arange(0, max(x), step=0.6))\n",
    "plt.yticks(np.arange(0, max(y), 0.2))\n",
    "\n",
    "ax.spines['top'].set_visible(False)\n",
    "ax.spines['right'].set_visible(False)\n",
    "ax.spines['bottom'].set_visible(True)\n",
    "ax.spines['left'].set_visible(True)\n",
    "\n",
    "# fname = '/Users/clmn/Desktop/Andy/Masters/Articles/GL/figures/figS6/v02/LME_BF.png'\n",
    "# plt.savefig(fname, dpi=600)\n",
    "# plt.close()"
   ]
  }
 ],
 "metadata": {
  "kernelspec": {
   "display_name": "Python 3 (ipykernel)",
   "language": "python",
   "name": "python3"
  },
  "language_info": {
   "codemirror_mode": {
    "name": "ipython",
    "version": 3
   },
   "file_extension": ".py",
   "mimetype": "text/x-python",
   "name": "python",
   "nbconvert_exporter": "python",
   "pygments_lexer": "ipython3",
   "version": "3.12.4"
  },
  "toc": {
   "base_numbering": 1,
   "nav_menu": {},
   "number_sections": true,
   "sideBar": true,
   "skip_h1_title": false,
   "title_cell": "Table of Contents",
   "title_sidebar": "Contents",
   "toc_cell": false,
   "toc_position": {},
   "toc_section_display": true,
   "toc_window_display": false
  }
 },
 "nbformat": 4,
 "nbformat_minor": 5
}
